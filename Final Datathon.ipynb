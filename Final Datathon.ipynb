{
 "cells": [
  {
   "cell_type": "markdown",
   "metadata": {},
   "source": [
    "## Importing necessary libraries"
   ]
  },
  {
   "cell_type": "code",
   "execution_count": 362,
   "metadata": {},
   "outputs": [],
   "source": [
    "import pandas as pd\n",
    "import numpy as np\n",
    "import matplotlib.pyplot as plt\n",
    "import seaborn as sns\n",
    "import math\n",
    "import pickle as pk"
   ]
  },
  {
   "cell_type": "code",
   "execution_count": 363,
   "metadata": {},
   "outputs": [],
   "source": [
    "data = pd.read_csv('train.csv')"
   ]
  },
  {
   "cell_type": "code",
   "execution_count": 364,
   "metadata": {},
   "outputs": [
    {
     "name": "stdout",
     "output_type": "stream",
     "text": [
      "(223, 16)\n"
     ]
    },
    {
     "data": {
      "text/html": [
       "<div>\n",
       "<style scoped>\n",
       "    .dataframe tbody tr th:only-of-type {\n",
       "        vertical-align: middle;\n",
       "    }\n",
       "\n",
       "    .dataframe tbody tr th {\n",
       "        vertical-align: top;\n",
       "    }\n",
       "\n",
       "    .dataframe thead th {\n",
       "        text-align: right;\n",
       "    }\n",
       "</style>\n",
       "<table border=\"1\" class=\"dataframe\">\n",
       "  <thead>\n",
       "    <tr style=\"text-align: right;\">\n",
       "      <th></th>\n",
       "      <th>GENDER</th>\n",
       "      <th>AGE</th>\n",
       "      <th>WBC</th>\n",
       "      <th>Platelets</th>\n",
       "      <th>Neutrophils</th>\n",
       "      <th>Lymphocytes</th>\n",
       "      <th>Monocytes</th>\n",
       "      <th>Eosinophils</th>\n",
       "      <th>Basophils</th>\n",
       "      <th>CRP</th>\n",
       "      <th>AST</th>\n",
       "      <th>ALT</th>\n",
       "      <th>ALP</th>\n",
       "      <th>GGT</th>\n",
       "      <th>LDH</th>\n",
       "      <th>Class</th>\n",
       "    </tr>\n",
       "  </thead>\n",
       "  <tbody>\n",
       "    <tr>\n",
       "      <th>0</th>\n",
       "      <td>F</td>\n",
       "      <td>70</td>\n",
       "      <td>4.9</td>\n",
       "      <td>145.0</td>\n",
       "      <td>4.0</td>\n",
       "      <td>0.7</td>\n",
       "      <td>0.3</td>\n",
       "      <td>0.0</td>\n",
       "      <td>0.0</td>\n",
       "      <td>87.9</td>\n",
       "      <td>68.0</td>\n",
       "      <td>41.0</td>\n",
       "      <td>89.0</td>\n",
       "      <td>63.0</td>\n",
       "      <td>606.0</td>\n",
       "      <td>1</td>\n",
       "    </tr>\n",
       "    <tr>\n",
       "      <th>1</th>\n",
       "      <td>M</td>\n",
       "      <td>61</td>\n",
       "      <td>11.3</td>\n",
       "      <td>166.0</td>\n",
       "      <td>10.7</td>\n",
       "      <td>0.5</td>\n",
       "      <td>0.1</td>\n",
       "      <td>0.0</td>\n",
       "      <td>0.0</td>\n",
       "      <td>174.3</td>\n",
       "      <td>118.0</td>\n",
       "      <td>95.0</td>\n",
       "      <td>59.0</td>\n",
       "      <td>77.0</td>\n",
       "      <td>808.0</td>\n",
       "      <td>1</td>\n",
       "    </tr>\n",
       "    <tr>\n",
       "      <th>2</th>\n",
       "      <td>F</td>\n",
       "      <td>70</td>\n",
       "      <td>15.8</td>\n",
       "      <td>202.0</td>\n",
       "      <td>13.9</td>\n",
       "      <td>1</td>\n",
       "      <td>0.8</td>\n",
       "      <td>0.0</td>\n",
       "      <td>0.0</td>\n",
       "      <td>43.8</td>\n",
       "      <td>20.0</td>\n",
       "      <td>26.0</td>\n",
       "      <td>80.0</td>\n",
       "      <td>16.0</td>\n",
       "      <td>235.0</td>\n",
       "      <td>0</td>\n",
       "    </tr>\n",
       "    <tr>\n",
       "      <th>3</th>\n",
       "      <td>M</td>\n",
       "      <td>85</td>\n",
       "      <td>10.6</td>\n",
       "      <td>227.0</td>\n",
       "      <td>NaN</td>\n",
       "      <td>NaN</td>\n",
       "      <td>NaN</td>\n",
       "      <td>NaN</td>\n",
       "      <td>NaN</td>\n",
       "      <td>6.3</td>\n",
       "      <td>31.0</td>\n",
       "      <td>16.0</td>\n",
       "      <td>NaN</td>\n",
       "      <td>NaN</td>\n",
       "      <td>NaN</td>\n",
       "      <td>0</td>\n",
       "    </tr>\n",
       "    <tr>\n",
       "      <th>4</th>\n",
       "      <td>F</td>\n",
       "      <td>89</td>\n",
       "      <td>4.5</td>\n",
       "      <td>170.0</td>\n",
       "      <td>3.8</td>\n",
       "      <td>0.5</td>\n",
       "      <td>0.2</td>\n",
       "      <td>0.0</td>\n",
       "      <td>0.0</td>\n",
       "      <td>133.6</td>\n",
       "      <td>57.0</td>\n",
       "      <td>17.0</td>\n",
       "      <td>81.0</td>\n",
       "      <td>19.0</td>\n",
       "      <td>626.0</td>\n",
       "      <td>1</td>\n",
       "    </tr>\n",
       "  </tbody>\n",
       "</table>\n",
       "</div>"
      ],
      "text/plain": [
       "  GENDER  AGE   WBC  Platelets  Neutrophils Lymphocytes  Monocytes  \\\n",
       "0      F   70   4.9      145.0          4.0         0.7        0.3   \n",
       "1      M   61  11.3      166.0         10.7         0.5        0.1   \n",
       "2      F   70  15.8      202.0         13.9           1        0.8   \n",
       "3      M   85  10.6      227.0          NaN         NaN        NaN   \n",
       "4      F   89   4.5      170.0          3.8         0.5        0.2   \n",
       "\n",
       "   Eosinophils  Basophils    CRP    AST   ALT   ALP   GGT    LDH  Class  \n",
       "0          0.0        0.0   87.9   68.0  41.0  89.0  63.0  606.0      1  \n",
       "1          0.0        0.0  174.3  118.0  95.0  59.0  77.0  808.0      1  \n",
       "2          0.0        0.0   43.8   20.0  26.0  80.0  16.0  235.0      0  \n",
       "3          NaN        NaN    6.3   31.0  16.0   NaN   NaN    NaN      0  \n",
       "4          0.0        0.0  133.6   57.0  17.0  81.0  19.0  626.0      1  "
      ]
     },
     "execution_count": 364,
     "metadata": {},
     "output_type": "execute_result"
    }
   ],
   "source": [
    "print(data.shape)\n",
    "data.head()"
   ]
  },
  {
   "cell_type": "markdown",
   "metadata": {},
   "source": [
    "## Handling Missing Values"
   ]
  },
  {
   "cell_type": "code",
   "execution_count": 365,
   "metadata": {
    "scrolled": true
   },
   "outputs": [
    {
     "data": {
      "text/plain": [
       "GENDER          0.000000\n",
       "AGE             0.000000\n",
       "WBC             0.896861\n",
       "Platelets       0.896861\n",
       "Neutrophils    26.008969\n",
       "Lymphocytes    26.008969\n",
       "Monocytes      26.008969\n",
       "Eosinophils    26.008969\n",
       "Basophils      26.457399\n",
       "CRP             1.793722\n",
       "AST             0.448430\n",
       "ALT             3.587444\n",
       "ALP            52.466368\n",
       "GGT            49.775785\n",
       "LDH            29.596413\n",
       "Class           0.000000\n",
       "dtype: float64"
      ]
     },
     "execution_count": 365,
     "metadata": {},
     "output_type": "execute_result"
    }
   ],
   "source": [
    "(data.isnull().sum()/data.shape[0])*100"
   ]
  },
  {
   "cell_type": "markdown",
   "metadata": {},
   "source": [
    "- Around 50% of the observations are null in the columns ALP and GGT\n",
    "- So we can drop them"
   ]
  },
  {
   "cell_type": "code",
   "execution_count": 366,
   "metadata": {},
   "outputs": [],
   "source": [
    "data.drop(['ALP','GGT'],inplace=True,axis=1)"
   ]
  },
  {
   "cell_type": "markdown",
   "metadata": {},
   "source": [
    "- for each row we are setting a threshold of minimum 6 values out of 14 are required inorder to predict the outcome"
   ]
  },
  {
   "cell_type": "code",
   "execution_count": 367,
   "metadata": {},
   "outputs": [],
   "source": [
    "data.dropna(thresh=6,axis=0,inplace=True)"
   ]
  },
  {
   "cell_type": "markdown",
   "metadata": {},
   "source": [
    "## Handling WBC"
   ]
  },
  {
   "cell_type": "code",
   "execution_count": 368,
   "metadata": {},
   "outputs": [
    {
     "data": {
      "text/html": [
       "<div>\n",
       "<style scoped>\n",
       "    .dataframe tbody tr th:only-of-type {\n",
       "        vertical-align: middle;\n",
       "    }\n",
       "\n",
       "    .dataframe tbody tr th {\n",
       "        vertical-align: top;\n",
       "    }\n",
       "\n",
       "    .dataframe thead th {\n",
       "        text-align: right;\n",
       "    }\n",
       "</style>\n",
       "<table border=\"1\" class=\"dataframe\">\n",
       "  <thead>\n",
       "    <tr style=\"text-align: right;\">\n",
       "      <th></th>\n",
       "      <th>GENDER</th>\n",
       "      <th>AGE</th>\n",
       "      <th>WBC</th>\n",
       "      <th>Platelets</th>\n",
       "      <th>Neutrophils</th>\n",
       "      <th>Lymphocytes</th>\n",
       "      <th>Monocytes</th>\n",
       "      <th>Eosinophils</th>\n",
       "      <th>Basophils</th>\n",
       "      <th>CRP</th>\n",
       "      <th>AST</th>\n",
       "      <th>ALT</th>\n",
       "      <th>LDH</th>\n",
       "      <th>Class</th>\n",
       "    </tr>\n",
       "  </thead>\n",
       "  <tbody>\n",
       "    <tr>\n",
       "      <th>188</th>\n",
       "      <td>M</td>\n",
       "      <td>37</td>\n",
       "      <td>NaN</td>\n",
       "      <td>NaN</td>\n",
       "      <td>NaN</td>\n",
       "      <td>NaN</td>\n",
       "      <td>NaN</td>\n",
       "      <td>NaN</td>\n",
       "      <td>NaN</td>\n",
       "      <td>108.8</td>\n",
       "      <td>27.0</td>\n",
       "      <td>39.0</td>\n",
       "      <td>321.0</td>\n",
       "      <td>1</td>\n",
       "    </tr>\n",
       "  </tbody>\n",
       "</table>\n",
       "</div>"
      ],
      "text/plain": [
       "    GENDER  AGE  WBC  Platelets  Neutrophils Lymphocytes  Monocytes  \\\n",
       "188      M   37  NaN        NaN          NaN         NaN        NaN   \n",
       "\n",
       "     Eosinophils  Basophils    CRP   AST   ALT    LDH  Class  \n",
       "188          NaN        NaN  108.8  27.0  39.0  321.0      1  "
      ]
     },
     "execution_count": 368,
     "metadata": {},
     "output_type": "execute_result"
    }
   ],
   "source": [
    "data[data['WBC'].isnull()]"
   ]
  },
  {
   "cell_type": "markdown",
   "metadata": {},
   "source": [
    "- we are taking median of WBC of class 1 observations to replace null value"
   ]
  },
  {
   "cell_type": "code",
   "execution_count": 369,
   "metadata": {},
   "outputs": [
    {
     "data": {
      "text/plain": [
       "6.8"
      ]
     },
     "execution_count": 369,
     "metadata": {},
     "output_type": "execute_result"
    }
   ],
   "source": [
    "data[data['Class']==1]['WBC'].median()"
   ]
  },
  {
   "cell_type": "code",
   "execution_count": 370,
   "metadata": {},
   "outputs": [],
   "source": [
    "data['WBC'].fillna(6.8,inplace=True)"
   ]
  },
  {
   "cell_type": "markdown",
   "metadata": {
    "scrolled": true
   },
   "source": [
    "## handling Neutrophils"
   ]
  },
  {
   "cell_type": "code",
   "execution_count": 371,
   "metadata": {},
   "outputs": [
    {
     "data": {
      "text/plain": [
       "array([ 4. , 10.7, 13.9,  nan,  3.8,  7.6,  5.7,  3.4,  3.3,  2.8,  4.3,\n",
       "        5.9,  5.2,  3.5,  2.7,  8.9,  5.6,  3.7, 14.1, 12.2,  9. , 10. ,\n",
       "       16. ,  2.1,  6.5,  9.7,  3.1,  7.9,  4.2, 10.5,  4.8,  1.2,  0.8,\n",
       "        8. ,  3.6,  2.4, 16.5,  7.1,  2.6,  8.1,  3.2,  4.5, 24.3,  9.6,\n",
       "        9.5, 12. ,  7.4,  6.7,  0.9,  5.1,  6.2,  2.2,  2.9,  5.3, 15.9,\n",
       "        6.8,  1.4,  9.2, 13.5, 20.2, 16.1, 14. ,  3.9,  1.9,  2.5,  4.7,\n",
       "        5.8,  5.4,  6.3,  2. ,  4.1,  1.5,  4.4,  3. ,  0.5, 18.9, 12.9,\n",
       "       17.6,  8.8, 15.7,  7.3,  9.4,  1.8,  1.1,  5. ,  9.3,  9.1])"
      ]
     },
     "execution_count": 371,
     "metadata": {},
     "output_type": "execute_result"
    }
   ],
   "source": [
    "data['Neutrophils'].unique()"
   ]
  },
  {
   "cell_type": "code",
   "execution_count": 372,
   "metadata": {},
   "outputs": [
    {
     "data": {
      "text/html": [
       "<div>\n",
       "<style scoped>\n",
       "    .dataframe tbody tr th:only-of-type {\n",
       "        vertical-align: middle;\n",
       "    }\n",
       "\n",
       "    .dataframe tbody tr th {\n",
       "        vertical-align: top;\n",
       "    }\n",
       "\n",
       "    .dataframe thead th {\n",
       "        text-align: right;\n",
       "    }\n",
       "</style>\n",
       "<table border=\"1\" class=\"dataframe\">\n",
       "  <thead>\n",
       "    <tr style=\"text-align: right;\">\n",
       "      <th></th>\n",
       "      <th>AGE</th>\n",
       "      <th>WBC</th>\n",
       "      <th>Platelets</th>\n",
       "      <th>Neutrophils</th>\n",
       "      <th>Monocytes</th>\n",
       "      <th>Eosinophils</th>\n",
       "      <th>Basophils</th>\n",
       "      <th>CRP</th>\n",
       "      <th>AST</th>\n",
       "      <th>ALT</th>\n",
       "      <th>LDH</th>\n",
       "      <th>Class</th>\n",
       "    </tr>\n",
       "  </thead>\n",
       "  <tbody>\n",
       "    <tr>\n",
       "      <th>AGE</th>\n",
       "      <td>1.000000</td>\n",
       "      <td>0.048690</td>\n",
       "      <td>-0.168887</td>\n",
       "      <td>0.078683</td>\n",
       "      <td>0.016221</td>\n",
       "      <td>-0.079684</td>\n",
       "      <td>-0.042996</td>\n",
       "      <td>0.126386</td>\n",
       "      <td>0.013693</td>\n",
       "      <td>-0.093119</td>\n",
       "      <td>0.209956</td>\n",
       "      <td>0.102342</td>\n",
       "    </tr>\n",
       "    <tr>\n",
       "      <th>WBC</th>\n",
       "      <td>0.048690</td>\n",
       "      <td>1.000000</td>\n",
       "      <td>0.438809</td>\n",
       "      <td>0.947954</td>\n",
       "      <td>0.567929</td>\n",
       "      <td>0.202245</td>\n",
       "      <td>0.524366</td>\n",
       "      <td>0.292700</td>\n",
       "      <td>0.134747</td>\n",
       "      <td>0.058097</td>\n",
       "      <td>0.342937</td>\n",
       "      <td>-0.167186</td>\n",
       "    </tr>\n",
       "    <tr>\n",
       "      <th>Platelets</th>\n",
       "      <td>-0.168887</td>\n",
       "      <td>0.438809</td>\n",
       "      <td>1.000000</td>\n",
       "      <td>0.342153</td>\n",
       "      <td>0.316795</td>\n",
       "      <td>0.219614</td>\n",
       "      <td>0.316627</td>\n",
       "      <td>0.113938</td>\n",
       "      <td>0.031140</td>\n",
       "      <td>0.143753</td>\n",
       "      <td>0.107239</td>\n",
       "      <td>-0.066778</td>\n",
       "    </tr>\n",
       "    <tr>\n",
       "      <th>Neutrophils</th>\n",
       "      <td>0.078683</td>\n",
       "      <td>0.947954</td>\n",
       "      <td>0.342153</td>\n",
       "      <td>1.000000</td>\n",
       "      <td>0.430662</td>\n",
       "      <td>0.090837</td>\n",
       "      <td>0.440451</td>\n",
       "      <td>0.392323</td>\n",
       "      <td>0.192125</td>\n",
       "      <td>0.101442</td>\n",
       "      <td>0.334340</td>\n",
       "      <td>-0.103483</td>\n",
       "    </tr>\n",
       "    <tr>\n",
       "      <th>Monocytes</th>\n",
       "      <td>0.016221</td>\n",
       "      <td>0.567929</td>\n",
       "      <td>0.316795</td>\n",
       "      <td>0.430662</td>\n",
       "      <td>1.000000</td>\n",
       "      <td>0.264536</td>\n",
       "      <td>0.444978</td>\n",
       "      <td>-0.034554</td>\n",
       "      <td>-0.099062</td>\n",
       "      <td>-0.060665</td>\n",
       "      <td>-0.168622</td>\n",
       "      <td>-0.262518</td>\n",
       "    </tr>\n",
       "    <tr>\n",
       "      <th>Eosinophils</th>\n",
       "      <td>-0.079684</td>\n",
       "      <td>0.202245</td>\n",
       "      <td>0.219614</td>\n",
       "      <td>0.090837</td>\n",
       "      <td>0.264536</td>\n",
       "      <td>1.000000</td>\n",
       "      <td>0.423101</td>\n",
       "      <td>-0.078713</td>\n",
       "      <td>-0.044971</td>\n",
       "      <td>-0.032244</td>\n",
       "      <td>-0.131654</td>\n",
       "      <td>-0.228690</td>\n",
       "    </tr>\n",
       "    <tr>\n",
       "      <th>Basophils</th>\n",
       "      <td>-0.042996</td>\n",
       "      <td>0.524366</td>\n",
       "      <td>0.316627</td>\n",
       "      <td>0.440451</td>\n",
       "      <td>0.444978</td>\n",
       "      <td>0.423101</td>\n",
       "      <td>1.000000</td>\n",
       "      <td>-0.031367</td>\n",
       "      <td>0.055703</td>\n",
       "      <td>0.057552</td>\n",
       "      <td>0.005043</td>\n",
       "      <td>-0.150111</td>\n",
       "    </tr>\n",
       "    <tr>\n",
       "      <th>CRP</th>\n",
       "      <td>0.126386</td>\n",
       "      <td>0.292700</td>\n",
       "      <td>0.113938</td>\n",
       "      <td>0.392323</td>\n",
       "      <td>-0.034554</td>\n",
       "      <td>-0.078713</td>\n",
       "      <td>-0.031367</td>\n",
       "      <td>1.000000</td>\n",
       "      <td>0.248465</td>\n",
       "      <td>0.064313</td>\n",
       "      <td>0.470108</td>\n",
       "      <td>0.233632</td>\n",
       "    </tr>\n",
       "    <tr>\n",
       "      <th>AST</th>\n",
       "      <td>0.013693</td>\n",
       "      <td>0.134747</td>\n",
       "      <td>0.031140</td>\n",
       "      <td>0.192125</td>\n",
       "      <td>-0.099062</td>\n",
       "      <td>-0.044971</td>\n",
       "      <td>0.055703</td>\n",
       "      <td>0.248465</td>\n",
       "      <td>1.000000</td>\n",
       "      <td>0.714150</td>\n",
       "      <td>0.618139</td>\n",
       "      <td>0.292650</td>\n",
       "    </tr>\n",
       "    <tr>\n",
       "      <th>ALT</th>\n",
       "      <td>-0.093119</td>\n",
       "      <td>0.058097</td>\n",
       "      <td>0.143753</td>\n",
       "      <td>0.101442</td>\n",
       "      <td>-0.060665</td>\n",
       "      <td>-0.032244</td>\n",
       "      <td>0.057552</td>\n",
       "      <td>0.064313</td>\n",
       "      <td>0.714150</td>\n",
       "      <td>1.000000</td>\n",
       "      <td>0.304780</td>\n",
       "      <td>0.244920</td>\n",
       "    </tr>\n",
       "    <tr>\n",
       "      <th>LDH</th>\n",
       "      <td>0.209956</td>\n",
       "      <td>0.342937</td>\n",
       "      <td>0.107239</td>\n",
       "      <td>0.334340</td>\n",
       "      <td>-0.168622</td>\n",
       "      <td>-0.131654</td>\n",
       "      <td>0.005043</td>\n",
       "      <td>0.470108</td>\n",
       "      <td>0.618139</td>\n",
       "      <td>0.304780</td>\n",
       "      <td>1.000000</td>\n",
       "      <td>0.420369</td>\n",
       "    </tr>\n",
       "    <tr>\n",
       "      <th>Class</th>\n",
       "      <td>0.102342</td>\n",
       "      <td>-0.167186</td>\n",
       "      <td>-0.066778</td>\n",
       "      <td>-0.103483</td>\n",
       "      <td>-0.262518</td>\n",
       "      <td>-0.228690</td>\n",
       "      <td>-0.150111</td>\n",
       "      <td>0.233632</td>\n",
       "      <td>0.292650</td>\n",
       "      <td>0.244920</td>\n",
       "      <td>0.420369</td>\n",
       "      <td>1.000000</td>\n",
       "    </tr>\n",
       "  </tbody>\n",
       "</table>\n",
       "</div>"
      ],
      "text/plain": [
       "                  AGE       WBC  Platelets  Neutrophils  Monocytes  \\\n",
       "AGE          1.000000  0.048690  -0.168887     0.078683   0.016221   \n",
       "WBC          0.048690  1.000000   0.438809     0.947954   0.567929   \n",
       "Platelets   -0.168887  0.438809   1.000000     0.342153   0.316795   \n",
       "Neutrophils  0.078683  0.947954   0.342153     1.000000   0.430662   \n",
       "Monocytes    0.016221  0.567929   0.316795     0.430662   1.000000   \n",
       "Eosinophils -0.079684  0.202245   0.219614     0.090837   0.264536   \n",
       "Basophils   -0.042996  0.524366   0.316627     0.440451   0.444978   \n",
       "CRP          0.126386  0.292700   0.113938     0.392323  -0.034554   \n",
       "AST          0.013693  0.134747   0.031140     0.192125  -0.099062   \n",
       "ALT         -0.093119  0.058097   0.143753     0.101442  -0.060665   \n",
       "LDH          0.209956  0.342937   0.107239     0.334340  -0.168622   \n",
       "Class        0.102342 -0.167186  -0.066778    -0.103483  -0.262518   \n",
       "\n",
       "             Eosinophils  Basophils       CRP       AST       ALT       LDH  \\\n",
       "AGE            -0.079684  -0.042996  0.126386  0.013693 -0.093119  0.209956   \n",
       "WBC             0.202245   0.524366  0.292700  0.134747  0.058097  0.342937   \n",
       "Platelets       0.219614   0.316627  0.113938  0.031140  0.143753  0.107239   \n",
       "Neutrophils     0.090837   0.440451  0.392323  0.192125  0.101442  0.334340   \n",
       "Monocytes       0.264536   0.444978 -0.034554 -0.099062 -0.060665 -0.168622   \n",
       "Eosinophils     1.000000   0.423101 -0.078713 -0.044971 -0.032244 -0.131654   \n",
       "Basophils       0.423101   1.000000 -0.031367  0.055703  0.057552  0.005043   \n",
       "CRP            -0.078713  -0.031367  1.000000  0.248465  0.064313  0.470108   \n",
       "AST            -0.044971   0.055703  0.248465  1.000000  0.714150  0.618139   \n",
       "ALT            -0.032244   0.057552  0.064313  0.714150  1.000000  0.304780   \n",
       "LDH            -0.131654   0.005043  0.470108  0.618139  0.304780  1.000000   \n",
       "Class          -0.228690  -0.150111  0.233632  0.292650  0.244920  0.420369   \n",
       "\n",
       "                Class  \n",
       "AGE          0.102342  \n",
       "WBC         -0.167186  \n",
       "Platelets   -0.066778  \n",
       "Neutrophils -0.103483  \n",
       "Monocytes   -0.262518  \n",
       "Eosinophils -0.228690  \n",
       "Basophils   -0.150111  \n",
       "CRP          0.233632  \n",
       "AST          0.292650  \n",
       "ALT          0.244920  \n",
       "LDH          0.420369  \n",
       "Class        1.000000  "
      ]
     },
     "execution_count": 372,
     "metadata": {},
     "output_type": "execute_result"
    }
   ],
   "source": [
    "data.corr()"
   ]
  },
  {
   "cell_type": "code",
   "execution_count": 373,
   "metadata": {},
   "outputs": [
    {
     "data": {
      "text/plain": [
       "Text(0.5, 1.0, 'Correlation between WBC and Neutrophils')"
      ]
     },
     "execution_count": 373,
     "metadata": {},
     "output_type": "execute_result"
    },
    {
     "data": {
      "image/png": "[encoded data removed]",
      "text/plain": [
       "<Figure size 432x288 with 1 Axes>"
      ]
     },
     "metadata": {
      "needs_background": "light"
     },
     "output_type": "display_data"
    }
   ],
   "source": [
    "sns.scatterplot(x='WBC',y='Neutrophils',data=data)\n",
    "plt.title('Correlation between WBC and Neutrophils')"
   ]
  },
  {
   "cell_type": "markdown",
   "metadata": {},
   "source": [
    "- We can clearly see that the Neutrophils is higly correlated (0.94) with the WBC column\n",
    "- we are building a linear regression model inorder to predict the missing neutrophils values corresponding with WBC Values"
   ]
  },
  {
   "cell_type": "code",
   "execution_count": 374,
   "metadata": {
    "scrolled": true
   },
   "outputs": [],
   "source": [
    "Xt=data[data['Neutrophils'].notnull()][['WBC']]\n",
    "Yt =data[data['Neutrophils'].notnull()][['Neutrophils']]\n",
    "from sklearn.linear_model import LinearRegression"
   ]
  },
  {
   "cell_type": "code",
   "execution_count": 375,
   "metadata": {},
   "outputs": [],
   "source": [
    "lr=LinearRegression()\n",
    "lr.fit(Xt,Yt)\n",
    "yp= lr.predict(pd.DataFrame(data['WBC']))\n",
    "data['Y_pred']=yp\n",
    "data['Neutrophils'].fillna(data['Y_pred'], inplace = True)\n",
    "data.drop('Y_pred',axis=1,inplace=True)"
   ]
  },
  {
   "cell_type": "markdown",
   "metadata": {},
   "source": [
    "## Handling Lymphocytes"
   ]
  },
  {
   "cell_type": "code",
   "execution_count": 376,
   "metadata": {},
   "outputs": [
    {
     "data": {
      "text/plain": [
       "array(['0.7', '0.5', '1', nan, '1.7', '0.3', '0.8', '0.2', '1.1', '3.3',\n",
       "       '0.6', '2.4', '1.5', '0.9', '2.1', '0.4', '1.4', '1.3', '2.3',\n",
       "       '3.1', '1.2', '7.2', '2.2', '1.6', '2.9', '1.8', '2.7', '1.9', '2',\n",
       "       '2.5', '4.1', '0-4', '3'], dtype=object)"
      ]
     },
     "execution_count": 376,
     "metadata": {},
     "output_type": "execute_result"
    }
   ],
   "source": [
    "data['Lymphocytes'].unique()"
   ]
  },
  {
   "cell_type": "markdown",
   "metadata": {},
   "source": [
    "- We need to replace the '0-4' (assuming it as a typing mistake) value since it cannot be converted to numeric value"
   ]
  },
  {
   "cell_type": "code",
   "execution_count": 377,
   "metadata": {},
   "outputs": [],
   "source": [
    "data['Lymphocytes'] = data['Lymphocytes'].replace(['0-4'], '0.4')"
   ]
  },
  {
   "cell_type": "code",
   "execution_count": 378,
   "metadata": {},
   "outputs": [
    {
     "data": {
      "text/plain": [
       "dtype('O')"
      ]
     },
     "execution_count": 378,
     "metadata": {},
     "output_type": "execute_result"
    }
   ],
   "source": [
    "data['Lymphocytes'].dtype"
   ]
  },
  {
   "cell_type": "markdown",
   "metadata": {},
   "source": [
    "Converting into Numeric type"
   ]
  },
  {
   "cell_type": "code",
   "execution_count": 379,
   "metadata": {},
   "outputs": [],
   "source": [
    "data['Lymphocytes'] = pd.to_numeric(data['Lymphocytes'] , errors = 'coerce')"
   ]
  },
  {
   "cell_type": "markdown",
   "metadata": {},
   "source": [
    "- Performing class based replacement of null values\n",
    "- taking mean of Lymphocytes for each class and replacing correspondingly"
   ]
  },
  {
   "cell_type": "code",
   "execution_count": 380,
   "metadata": {
    "scrolled": true
   },
   "outputs": [
    {
     "data": {
      "text/plain": [
       "<matplotlib.axes._subplots.AxesSubplot at 0x245b739e7f0>"
      ]
     },
     "execution_count": 380,
     "metadata": {},
     "output_type": "execute_result"
    },
    {
     "data": {
      "image/png": "[encoded data removed]",
      "text/plain": [
       "<Figure size 432x288 with 1 Axes>"
      ]
     },
     "metadata": {
      "needs_background": "light"
     },
     "output_type": "display_data"
    }
   ],
   "source": [
    "sns.countplot(data[data['Lymphocytes'].isnull()]['Class'])"
   ]
  },
  {
   "cell_type": "code",
   "execution_count": 381,
   "metadata": {
    "scrolled": false
   },
   "outputs": [],
   "source": [
    "c0_mean = data[data['Class']==0]['Lymphocytes'].mean()\n",
    "c1_mean = data[data['Class']==1]['Lymphocytes'].mean()"
   ]
  },
  {
   "cell_type": "code",
   "execution_count": 382,
   "metadata": {},
   "outputs": [],
   "source": [
    "for ind in data.index:\n",
    "    if str(data.loc[ind,'Lymphocytes']).lower() == 'nan':\n",
    "        if data.loc[ind, 'Class'] == 1:\n",
    "            data.loc[ind,'Lymphocytes'] = c1_mean\n",
    "        else:\n",
    "            data.loc[ind,'Lymphocytes'] = c0_mean\n",
    "            \n",
    "# data.Lymphocytes.unique()"
   ]
  },
  {
   "cell_type": "markdown",
   "metadata": {},
   "source": [
    "## Handling Monocytes, Eosinophils, Basophils"
   ]
  },
  {
   "cell_type": "code",
   "execution_count": null,
   "metadata": {},
   "outputs": [],
   "source": []
  },
  {
   "cell_type": "code",
   "execution_count": 383,
   "metadata": {},
   "outputs": [],
   "source": [
    "data['Monocytes']=data['Monocytes'].replace(np.nan,data['Monocytes'].median())"
   ]
  },
  {
   "cell_type": "code",
   "execution_count": 384,
   "metadata": {},
   "outputs": [],
   "source": [
    "data['Eosinophils']=data['Eosinophils'].replace(np.nan,data['Eosinophils'].mode()[0])"
   ]
  },
  {
   "cell_type": "code",
   "execution_count": 385,
   "metadata": {},
   "outputs": [],
   "source": [
    "data['Basophils']=data['Basophils'].replace(np.nan,data['Basophils'].mode()[0])"
   ]
  },
  {
   "cell_type": "markdown",
   "metadata": {},
   "source": [
    "## Handling CRP, ALT"
   ]
  },
  {
   "cell_type": "code",
   "execution_count": 386,
   "metadata": {},
   "outputs": [
    {
     "data": {
      "text/html": [
       "<div>\n",
       "<style scoped>\n",
       "    .dataframe tbody tr th:only-of-type {\n",
       "        vertical-align: middle;\n",
       "    }\n",
       "\n",
       "    .dataframe tbody tr th {\n",
       "        vertical-align: top;\n",
       "    }\n",
       "\n",
       "    .dataframe thead th {\n",
       "        text-align: right;\n",
       "    }\n",
       "</style>\n",
       "<table border=\"1\" class=\"dataframe\">\n",
       "  <thead>\n",
       "    <tr style=\"text-align: right;\">\n",
       "      <th></th>\n",
       "      <th>GENDER</th>\n",
       "      <th>AGE</th>\n",
       "      <th>WBC</th>\n",
       "      <th>Platelets</th>\n",
       "      <th>Neutrophils</th>\n",
       "      <th>Lymphocytes</th>\n",
       "      <th>Monocytes</th>\n",
       "      <th>Eosinophils</th>\n",
       "      <th>Basophils</th>\n",
       "      <th>CRP</th>\n",
       "      <th>AST</th>\n",
       "      <th>ALT</th>\n",
       "      <th>LDH</th>\n",
       "      <th>Class</th>\n",
       "    </tr>\n",
       "  </thead>\n",
       "  <tbody>\n",
       "    <tr>\n",
       "      <th>5</th>\n",
       "      <td>M</td>\n",
       "      <td>80</td>\n",
       "      <td>10.1</td>\n",
       "      <td>325.0</td>\n",
       "      <td>7.6</td>\n",
       "      <td>1.7</td>\n",
       "      <td>0.6</td>\n",
       "      <td>0.2</td>\n",
       "      <td>0.0</td>\n",
       "      <td>NaN</td>\n",
       "      <td>19.0</td>\n",
       "      <td>23.0</td>\n",
       "      <td>NaN</td>\n",
       "      <td>0</td>\n",
       "    </tr>\n",
       "    <tr>\n",
       "      <th>132</th>\n",
       "      <td>M</td>\n",
       "      <td>84</td>\n",
       "      <td>7.8</td>\n",
       "      <td>167.0</td>\n",
       "      <td>6.2</td>\n",
       "      <td>0.9</td>\n",
       "      <td>0.7</td>\n",
       "      <td>0.0</td>\n",
       "      <td>0.0</td>\n",
       "      <td>NaN</td>\n",
       "      <td>33.0</td>\n",
       "      <td>29.0</td>\n",
       "      <td>NaN</td>\n",
       "      <td>1</td>\n",
       "    </tr>\n",
       "    <tr>\n",
       "      <th>160</th>\n",
       "      <td>M</td>\n",
       "      <td>77</td>\n",
       "      <td>3.0</td>\n",
       "      <td>162.0</td>\n",
       "      <td>2.0</td>\n",
       "      <td>0.4</td>\n",
       "      <td>0.4</td>\n",
       "      <td>0.1</td>\n",
       "      <td>0.0</td>\n",
       "      <td>NaN</td>\n",
       "      <td>21.0</td>\n",
       "      <td>10.0</td>\n",
       "      <td>220.0</td>\n",
       "      <td>1</td>\n",
       "    </tr>\n",
       "  </tbody>\n",
       "</table>\n",
       "</div>"
      ],
      "text/plain": [
       "    GENDER  AGE   WBC  Platelets  Neutrophils  Lymphocytes  Monocytes  \\\n",
       "5        M   80  10.1      325.0          7.6          1.7        0.6   \n",
       "132      M   84   7.8      167.0          6.2          0.9        0.7   \n",
       "160      M   77   3.0      162.0          2.0          0.4        0.4   \n",
       "\n",
       "     Eosinophils  Basophils  CRP   AST   ALT    LDH  Class  \n",
       "5            0.2        0.0  NaN  19.0  23.0    NaN      0  \n",
       "132          0.0        0.0  NaN  33.0  29.0    NaN      1  \n",
       "160          0.1        0.0  NaN  21.0  10.0  220.0      1  "
      ]
     },
     "execution_count": 386,
     "metadata": {},
     "output_type": "execute_result"
    }
   ],
   "source": [
    "data[data['CRP'].isnull()]"
   ]
  },
  {
   "cell_type": "markdown",
   "metadata": {},
   "source": [
    "- The missing CRP Values are of 3 people who are older than 77 years \n",
    "- So, we are replacing the values with mean of CRP values of people with age greater than 77 years"
   ]
  },
  {
   "cell_type": "code",
   "execution_count": 387,
   "metadata": {
    "scrolled": true
   },
   "outputs": [
    {
     "name": "stderr",
     "output_type": "stream",
     "text": [
      "<ipython-input-387-e169cc595034>:1: FutureWarning: Dropping of nuisance columns in DataFrame reductions (with 'numeric_only=None') is deprecated; in a future version this will raise TypeError.  Select only valid columns before calling the reduction.\n",
      "  data[data['AGE']>77].mean()['CRP']\n"
     ]
    },
    {
     "data": {
      "text/plain": [
       "83.14090909090909"
      ]
     },
     "execution_count": 387,
     "metadata": {},
     "output_type": "execute_result"
    }
   ],
   "source": [
    "data[data['AGE']>77].mean()['CRP']"
   ]
  },
  {
   "cell_type": "code",
   "execution_count": 388,
   "metadata": {},
   "outputs": [],
   "source": [
    "data['CRP'].fillna(84,inplace=True)"
   ]
  },
  {
   "cell_type": "markdown",
   "metadata": {},
   "source": [
    "- Replacing the ALT null value with its median "
   ]
  },
  {
   "cell_type": "code",
   "execution_count": 389,
   "metadata": {},
   "outputs": [],
   "source": [
    "data['ALT']=data['ALT'].replace(np.nan,data['ALT'].median())"
   ]
  },
  {
   "cell_type": "markdown",
   "metadata": {},
   "source": [
    "## handling Platelets"
   ]
  },
  {
   "cell_type": "markdown",
   "metadata": {},
   "source": [
    "- Replacing the ALT null value with its mean of class 1 (There is only one missing value which is of class 1)"
   ]
  },
  {
   "cell_type": "code",
   "execution_count": 390,
   "metadata": {},
   "outputs": [
    {
     "data": {
      "text/html": [
       "<div>\n",
       "<style scoped>\n",
       "    .dataframe tbody tr th:only-of-type {\n",
       "        vertical-align: middle;\n",
       "    }\n",
       "\n",
       "    .dataframe tbody tr th {\n",
       "        vertical-align: top;\n",
       "    }\n",
       "\n",
       "    .dataframe thead th {\n",
       "        text-align: right;\n",
       "    }\n",
       "</style>\n",
       "<table border=\"1\" class=\"dataframe\">\n",
       "  <thead>\n",
       "    <tr style=\"text-align: right;\">\n",
       "      <th></th>\n",
       "      <th>GENDER</th>\n",
       "      <th>AGE</th>\n",
       "      <th>WBC</th>\n",
       "      <th>Platelets</th>\n",
       "      <th>Neutrophils</th>\n",
       "      <th>Lymphocytes</th>\n",
       "      <th>Monocytes</th>\n",
       "      <th>Eosinophils</th>\n",
       "      <th>Basophils</th>\n",
       "      <th>CRP</th>\n",
       "      <th>AST</th>\n",
       "      <th>ALT</th>\n",
       "      <th>LDH</th>\n",
       "      <th>Class</th>\n",
       "    </tr>\n",
       "  </thead>\n",
       "  <tbody>\n",
       "    <tr>\n",
       "      <th>188</th>\n",
       "      <td>M</td>\n",
       "      <td>37</td>\n",
       "      <td>6.8</td>\n",
       "      <td>NaN</td>\n",
       "      <td>5.112031</td>\n",
       "      <td>1.074167</td>\n",
       "      <td>0.5</td>\n",
       "      <td>0.0</td>\n",
       "      <td>0.0</td>\n",
       "      <td>108.8</td>\n",
       "      <td>27.0</td>\n",
       "      <td>39.0</td>\n",
       "      <td>321.0</td>\n",
       "      <td>1</td>\n",
       "    </tr>\n",
       "  </tbody>\n",
       "</table>\n",
       "</div>"
      ],
      "text/plain": [
       "    GENDER  AGE  WBC  Platelets  Neutrophils  Lymphocytes  Monocytes  \\\n",
       "188      M   37  6.8        NaN     5.112031     1.074167        0.5   \n",
       "\n",
       "     Eosinophils  Basophils    CRP   AST   ALT    LDH  Class  \n",
       "188          0.0        0.0  108.8  27.0  39.0  321.0      1  "
      ]
     },
     "execution_count": 390,
     "metadata": {},
     "output_type": "execute_result"
    }
   ],
   "source": [
    "data[data['Platelets'].isnull()]"
   ]
  },
  {
   "cell_type": "code",
   "execution_count": 391,
   "metadata": {
    "scrolled": true
   },
   "outputs": [
    {
     "data": {
      "text/plain": [
       "220.72624113475177"
      ]
     },
     "execution_count": 391,
     "metadata": {},
     "output_type": "execute_result"
    }
   ],
   "source": [
    "data[data['Class']==1]['Platelets'].mean()"
   ]
  },
  {
   "cell_type": "code",
   "execution_count": 392,
   "metadata": {},
   "outputs": [],
   "source": [
    "data['Platelets'].fillna(220,inplace=True)"
   ]
  },
  {
   "cell_type": "markdown",
   "metadata": {},
   "source": [
    "## Handling LDH"
   ]
  },
  {
   "cell_type": "code",
   "execution_count": 393,
   "metadata": {},
   "outputs": [],
   "source": [
    "data['LDH'] = data['LDH'].fillna(data['LDH'].median())"
   ]
  },
  {
   "cell_type": "code",
   "execution_count": 394,
   "metadata": {},
   "outputs": [
    {
     "data": {
      "text/plain": [
       "GENDER         0\n",
       "AGE            0\n",
       "WBC            0\n",
       "Platelets      0\n",
       "Neutrophils    0\n",
       "Lymphocytes    0\n",
       "Monocytes      0\n",
       "Eosinophils    0\n",
       "Basophils      0\n",
       "CRP            0\n",
       "AST            0\n",
       "ALT            0\n",
       "LDH            0\n",
       "Class          0\n",
       "dtype: int64"
      ]
     },
     "execution_count": 394,
     "metadata": {},
     "output_type": "execute_result"
    }
   ],
   "source": [
    "data.isnull().sum()"
   ]
  },
  {
   "cell_type": "markdown",
   "metadata": {},
   "source": [
    "## handling Outliers"
   ]
  },
  {
   "cell_type": "markdown",
   "metadata": {},
   "source": [
    "- Handling outliers by capping method (IQR)\n",
    "- Replaced outliers with whisker values\n",
    "- Some of features also replaced with median"
   ]
  },
  {
   "cell_type": "code",
   "execution_count": 395,
   "metadata": {
    "scrolled": true
   },
   "outputs": [
    {
     "data": {
      "text/html": [
       "<div>\n",
       "<style scoped>\n",
       "    .dataframe tbody tr th:only-of-type {\n",
       "        vertical-align: middle;\n",
       "    }\n",
       "\n",
       "    .dataframe tbody tr th {\n",
       "        vertical-align: top;\n",
       "    }\n",
       "\n",
       "    .dataframe thead th {\n",
       "        text-align: right;\n",
       "    }\n",
       "</style>\n",
       "<table border=\"1\" class=\"dataframe\">\n",
       "  <thead>\n",
       "    <tr style=\"text-align: right;\">\n",
       "      <th></th>\n",
       "      <th>AGE</th>\n",
       "      <th>WBC</th>\n",
       "      <th>Platelets</th>\n",
       "      <th>Neutrophils</th>\n",
       "      <th>Lymphocytes</th>\n",
       "      <th>Monocytes</th>\n",
       "      <th>Eosinophils</th>\n",
       "      <th>Basophils</th>\n",
       "      <th>CRP</th>\n",
       "      <th>AST</th>\n",
       "      <th>ALT</th>\n",
       "      <th>LDH</th>\n",
       "      <th>Class</th>\n",
       "    </tr>\n",
       "  </thead>\n",
       "  <tbody>\n",
       "    <tr>\n",
       "      <th>count</th>\n",
       "      <td>222.000000</td>\n",
       "      <td>222.000000</td>\n",
       "      <td>222.000000</td>\n",
       "      <td>222.000000</td>\n",
       "      <td>222.000000</td>\n",
       "      <td>222.000000</td>\n",
       "      <td>222.000000</td>\n",
       "      <td>222.000000</td>\n",
       "      <td>222.000000</td>\n",
       "      <td>222.000000</td>\n",
       "      <td>222.000000</td>\n",
       "      <td>222.000000</td>\n",
       "      <td>222.00000</td>\n",
       "    </tr>\n",
       "    <tr>\n",
       "      <th>mean</th>\n",
       "      <td>61.472973</td>\n",
       "      <td>8.548198</td>\n",
       "      <td>226.033333</td>\n",
       "      <td>6.658403</td>\n",
       "      <td>1.251644</td>\n",
       "      <td>0.572973</td>\n",
       "      <td>0.039640</td>\n",
       "      <td>0.010811</td>\n",
       "      <td>89.327027</td>\n",
       "      <td>52.247748</td>\n",
       "      <td>44.990991</td>\n",
       "      <td>358.324324</td>\n",
       "      <td>0.63964</td>\n",
       "    </tr>\n",
       "    <tr>\n",
       "      <th>std</th>\n",
       "      <td>18.361791</td>\n",
       "      <td>4.744024</td>\n",
       "      <td>106.051326</td>\n",
       "      <td>4.342108</td>\n",
       "      <td>0.750209</td>\n",
       "      <td>0.351196</td>\n",
       "      <td>0.120541</td>\n",
       "      <td>0.035215</td>\n",
       "      <td>91.881900</td>\n",
       "      <td>52.209349</td>\n",
       "      <td>43.933824</td>\n",
       "      <td>162.673070</td>\n",
       "      <td>0.48119</td>\n",
       "    </tr>\n",
       "    <tr>\n",
       "      <th>min</th>\n",
       "      <td>0.000000</td>\n",
       "      <td>1.100000</td>\n",
       "      <td>20.000000</td>\n",
       "      <td>0.500000</td>\n",
       "      <td>0.200000</td>\n",
       "      <td>0.000000</td>\n",
       "      <td>0.000000</td>\n",
       "      <td>0.000000</td>\n",
       "      <td>0.100000</td>\n",
       "      <td>11.000000</td>\n",
       "      <td>10.000000</td>\n",
       "      <td>98.000000</td>\n",
       "      <td>0.00000</td>\n",
       "    </tr>\n",
       "    <tr>\n",
       "      <th>25%</th>\n",
       "      <td>49.000000</td>\n",
       "      <td>5.100000</td>\n",
       "      <td>157.000000</td>\n",
       "      <td>3.700000</td>\n",
       "      <td>0.800000</td>\n",
       "      <td>0.400000</td>\n",
       "      <td>0.000000</td>\n",
       "      <td>0.000000</td>\n",
       "      <td>21.950000</td>\n",
       "      <td>27.000000</td>\n",
       "      <td>22.000000</td>\n",
       "      <td>273.250000</td>\n",
       "      <td>0.00000</td>\n",
       "    </tr>\n",
       "    <tr>\n",
       "      <th>50%</th>\n",
       "      <td>64.000000</td>\n",
       "      <td>7.250000</td>\n",
       "      <td>199.000000</td>\n",
       "      <td>5.400000</td>\n",
       "      <td>1.074167</td>\n",
       "      <td>0.500000</td>\n",
       "      <td>0.000000</td>\n",
       "      <td>0.000000</td>\n",
       "      <td>53.450000</td>\n",
       "      <td>36.000000</td>\n",
       "      <td>32.000000</td>\n",
       "      <td>321.000000</td>\n",
       "      <td>1.00000</td>\n",
       "    </tr>\n",
       "    <tr>\n",
       "      <th>75%</th>\n",
       "      <td>76.000000</td>\n",
       "      <td>10.775000</td>\n",
       "      <td>272.000000</td>\n",
       "      <td>8.539669</td>\n",
       "      <td>1.566667</td>\n",
       "      <td>0.700000</td>\n",
       "      <td>0.000000</td>\n",
       "      <td>0.000000</td>\n",
       "      <td>129.475000</td>\n",
       "      <td>59.750000</td>\n",
       "      <td>46.750000</td>\n",
       "      <td>390.500000</td>\n",
       "      <td>1.00000</td>\n",
       "    </tr>\n",
       "    <tr>\n",
       "      <th>max</th>\n",
       "      <td>98.000000</td>\n",
       "      <td>29.200000</td>\n",
       "      <td>620.000000</td>\n",
       "      <td>24.925994</td>\n",
       "      <td>7.200000</td>\n",
       "      <td>3.200000</td>\n",
       "      <td>1.300000</td>\n",
       "      <td>0.300000</td>\n",
       "      <td>425.000000</td>\n",
       "      <td>550.000000</td>\n",
       "      <td>275.000000</td>\n",
       "      <td>1183.000000</td>\n",
       "      <td>1.00000</td>\n",
       "    </tr>\n",
       "  </tbody>\n",
       "</table>\n",
       "</div>"
      ],
      "text/plain": [
       "              AGE         WBC   Platelets  Neutrophils  Lymphocytes  \\\n",
       "count  222.000000  222.000000  222.000000   222.000000   222.000000   \n",
       "mean    61.472973    8.548198  226.033333     6.658403     1.251644   \n",
       "std     18.361791    4.744024  106.051326     4.342108     0.750209   \n",
       "min      0.000000    1.100000   20.000000     0.500000     0.200000   \n",
       "25%     49.000000    5.100000  157.000000     3.700000     0.800000   \n",
       "50%     64.000000    7.250000  199.000000     5.400000     1.074167   \n",
       "75%     76.000000   10.775000  272.000000     8.539669     1.566667   \n",
       "max     98.000000   29.200000  620.000000    24.925994     7.200000   \n",
       "\n",
       "        Monocytes  Eosinophils   Basophils         CRP         AST  \\\n",
       "count  222.000000   222.000000  222.000000  222.000000  222.000000   \n",
       "mean     0.572973     0.039640    0.010811   89.327027   52.247748   \n",
       "std      0.351196     0.120541    0.035215   91.881900   52.209349   \n",
       "min      0.000000     0.000000    0.000000    0.100000   11.000000   \n",
       "25%      0.400000     0.000000    0.000000   21.950000   27.000000   \n",
       "50%      0.500000     0.000000    0.000000   53.450000   36.000000   \n",
       "75%      0.700000     0.000000    0.000000  129.475000   59.750000   \n",
       "max      3.200000     1.300000    0.300000  425.000000  550.000000   \n",
       "\n",
       "              ALT          LDH      Class  \n",
       "count  222.000000   222.000000  222.00000  \n",
       "mean    44.990991   358.324324    0.63964  \n",
       "std     43.933824   162.673070    0.48119  \n",
       "min     10.000000    98.000000    0.00000  \n",
       "25%     22.000000   273.250000    0.00000  \n",
       "50%     32.000000   321.000000    1.00000  \n",
       "75%     46.750000   390.500000    1.00000  \n",
       "max    275.000000  1183.000000    1.00000  "
      ]
     },
     "execution_count": 395,
     "metadata": {},
     "output_type": "execute_result"
    }
   ],
   "source": [
    "data.describe()"
   ]
  },
  {
   "cell_type": "code",
   "execution_count": 396,
   "metadata": {
    "scrolled": false
   },
   "outputs": [
    {
     "data": {
      "text/plain": [
       "<matplotlib.axes._subplots.AxesSubplot at 0x245b76790a0>"
      ]
     },
     "execution_count": 396,
     "metadata": {},
     "output_type": "execute_result"
    },
    {
     "data": {
      "image/png": "[encoded data removed]",
      "text/plain": [
       "<Figure size 432x288 with 1 Axes>"
      ]
     },
     "metadata": {
      "needs_background": "light"
     },
     "output_type": "display_data"
    }
   ],
   "source": [
    "sns.boxplot(data['WBC'])"
   ]
  },
  {
   "cell_type": "code",
   "execution_count": 397,
   "metadata": {},
   "outputs": [],
   "source": [
    "data['WBC'] = np.where(data['WBC']>17.5, 17, data['WBC'])"
   ]
  },
  {
   "cell_type": "code",
   "execution_count": 398,
   "metadata": {},
   "outputs": [
    {
     "data": {
      "text/plain": [
       "<matplotlib.axes._subplots.AxesSubplot at 0x245b7654820>"
      ]
     },
     "execution_count": 398,
     "metadata": {},
     "output_type": "execute_result"
    },
    {
     "data": {
      "image/png": "[encoded data removed]",
      "text/plain": [
       "<Figure size 432x288 with 1 Axes>"
      ]
     },
     "metadata": {
      "needs_background": "light"
     },
     "output_type": "display_data"
    }
   ],
   "source": [
    "sns.boxplot(data['WBC'])"
   ]
  },
  {
   "cell_type": "code",
   "execution_count": 399,
   "metadata": {
    "scrolled": true
   },
   "outputs": [
    {
     "data": {
      "text/plain": [
       "<matplotlib.axes._subplots.AxesSubplot at 0x245b7252a60>"
      ]
     },
     "execution_count": 399,
     "metadata": {},
     "output_type": "execute_result"
    },
    {
     "data": {
      "image/png": "[encoded data removed]",
      "text/plain": [
       "<Figure size 432x288 with 1 Axes>"
      ]
     },
     "metadata": {
      "needs_background": "light"
     },
     "output_type": "display_data"
    }
   ],
   "source": [
    "sns.boxplot(data['Platelets'])"
   ]
  },
  {
   "cell_type": "code",
   "execution_count": 400,
   "metadata": {},
   "outputs": [
    {
     "data": {
      "text/html": [
       "<div>\n",
       "<style scoped>\n",
       "    .dataframe tbody tr th:only-of-type {\n",
       "        vertical-align: middle;\n",
       "    }\n",
       "\n",
       "    .dataframe tbody tr th {\n",
       "        vertical-align: top;\n",
       "    }\n",
       "\n",
       "    .dataframe thead th {\n",
       "        text-align: right;\n",
       "    }\n",
       "</style>\n",
       "<table border=\"1\" class=\"dataframe\">\n",
       "  <thead>\n",
       "    <tr style=\"text-align: right;\">\n",
       "      <th></th>\n",
       "      <th>AGE</th>\n",
       "      <th>WBC</th>\n",
       "      <th>Platelets</th>\n",
       "      <th>Neutrophils</th>\n",
       "      <th>Lymphocytes</th>\n",
       "      <th>Monocytes</th>\n",
       "      <th>Eosinophils</th>\n",
       "      <th>Basophils</th>\n",
       "      <th>CRP</th>\n",
       "      <th>AST</th>\n",
       "      <th>ALT</th>\n",
       "      <th>LDH</th>\n",
       "      <th>Class</th>\n",
       "    </tr>\n",
       "  </thead>\n",
       "  <tbody>\n",
       "    <tr>\n",
       "      <th>count</th>\n",
       "      <td>222.000000</td>\n",
       "      <td>222.000000</td>\n",
       "      <td>222.000000</td>\n",
       "      <td>222.000000</td>\n",
       "      <td>222.000000</td>\n",
       "      <td>222.000000</td>\n",
       "      <td>222.000000</td>\n",
       "      <td>222.000000</td>\n",
       "      <td>222.000000</td>\n",
       "      <td>222.000000</td>\n",
       "      <td>222.000000</td>\n",
       "      <td>222.000000</td>\n",
       "      <td>222.00000</td>\n",
       "    </tr>\n",
       "    <tr>\n",
       "      <th>mean</th>\n",
       "      <td>61.472973</td>\n",
       "      <td>8.297297</td>\n",
       "      <td>226.033333</td>\n",
       "      <td>6.658403</td>\n",
       "      <td>1.251644</td>\n",
       "      <td>0.572973</td>\n",
       "      <td>0.039640</td>\n",
       "      <td>0.010811</td>\n",
       "      <td>89.327027</td>\n",
       "      <td>52.247748</td>\n",
       "      <td>44.990991</td>\n",
       "      <td>358.324324</td>\n",
       "      <td>0.63964</td>\n",
       "    </tr>\n",
       "    <tr>\n",
       "      <th>std</th>\n",
       "      <td>18.361791</td>\n",
       "      <td>4.075020</td>\n",
       "      <td>106.051326</td>\n",
       "      <td>4.342108</td>\n",
       "      <td>0.750209</td>\n",
       "      <td>0.351196</td>\n",
       "      <td>0.120541</td>\n",
       "      <td>0.035215</td>\n",
       "      <td>91.881900</td>\n",
       "      <td>52.209349</td>\n",
       "      <td>43.933824</td>\n",
       "      <td>162.673070</td>\n",
       "      <td>0.48119</td>\n",
       "    </tr>\n",
       "    <tr>\n",
       "      <th>min</th>\n",
       "      <td>0.000000</td>\n",
       "      <td>1.100000</td>\n",
       "      <td>20.000000</td>\n",
       "      <td>0.500000</td>\n",
       "      <td>0.200000</td>\n",
       "      <td>0.000000</td>\n",
       "      <td>0.000000</td>\n",
       "      <td>0.000000</td>\n",
       "      <td>0.100000</td>\n",
       "      <td>11.000000</td>\n",
       "      <td>10.000000</td>\n",
       "      <td>98.000000</td>\n",
       "      <td>0.00000</td>\n",
       "    </tr>\n",
       "    <tr>\n",
       "      <th>25%</th>\n",
       "      <td>49.000000</td>\n",
       "      <td>5.100000</td>\n",
       "      <td>157.000000</td>\n",
       "      <td>3.700000</td>\n",
       "      <td>0.800000</td>\n",
       "      <td>0.400000</td>\n",
       "      <td>0.000000</td>\n",
       "      <td>0.000000</td>\n",
       "      <td>21.950000</td>\n",
       "      <td>27.000000</td>\n",
       "      <td>22.000000</td>\n",
       "      <td>273.250000</td>\n",
       "      <td>0.00000</td>\n",
       "    </tr>\n",
       "    <tr>\n",
       "      <th>50%</th>\n",
       "      <td>64.000000</td>\n",
       "      <td>7.250000</td>\n",
       "      <td>199.000000</td>\n",
       "      <td>5.400000</td>\n",
       "      <td>1.074167</td>\n",
       "      <td>0.500000</td>\n",
       "      <td>0.000000</td>\n",
       "      <td>0.000000</td>\n",
       "      <td>53.450000</td>\n",
       "      <td>36.000000</td>\n",
       "      <td>32.000000</td>\n",
       "      <td>321.000000</td>\n",
       "      <td>1.00000</td>\n",
       "    </tr>\n",
       "    <tr>\n",
       "      <th>75%</th>\n",
       "      <td>76.000000</td>\n",
       "      <td>10.775000</td>\n",
       "      <td>272.000000</td>\n",
       "      <td>8.539669</td>\n",
       "      <td>1.566667</td>\n",
       "      <td>0.700000</td>\n",
       "      <td>0.000000</td>\n",
       "      <td>0.000000</td>\n",
       "      <td>129.475000</td>\n",
       "      <td>59.750000</td>\n",
       "      <td>46.750000</td>\n",
       "      <td>390.500000</td>\n",
       "      <td>1.00000</td>\n",
       "    </tr>\n",
       "    <tr>\n",
       "      <th>max</th>\n",
       "      <td>98.000000</td>\n",
       "      <td>17.000000</td>\n",
       "      <td>620.000000</td>\n",
       "      <td>24.925994</td>\n",
       "      <td>7.200000</td>\n",
       "      <td>3.200000</td>\n",
       "      <td>1.300000</td>\n",
       "      <td>0.300000</td>\n",
       "      <td>425.000000</td>\n",
       "      <td>550.000000</td>\n",
       "      <td>275.000000</td>\n",
       "      <td>1183.000000</td>\n",
       "      <td>1.00000</td>\n",
       "    </tr>\n",
       "  </tbody>\n",
       "</table>\n",
       "</div>"
      ],
      "text/plain": [
       "              AGE         WBC   Platelets  Neutrophils  Lymphocytes  \\\n",
       "count  222.000000  222.000000  222.000000   222.000000   222.000000   \n",
       "mean    61.472973    8.297297  226.033333     6.658403     1.251644   \n",
       "std     18.361791    4.075020  106.051326     4.342108     0.750209   \n",
       "min      0.000000    1.100000   20.000000     0.500000     0.200000   \n",
       "25%     49.000000    5.100000  157.000000     3.700000     0.800000   \n",
       "50%     64.000000    7.250000  199.000000     5.400000     1.074167   \n",
       "75%     76.000000   10.775000  272.000000     8.539669     1.566667   \n",
       "max     98.000000   17.000000  620.000000    24.925994     7.200000   \n",
       "\n",
       "        Monocytes  Eosinophils   Basophils         CRP         AST  \\\n",
       "count  222.000000   222.000000  222.000000  222.000000  222.000000   \n",
       "mean     0.572973     0.039640    0.010811   89.327027   52.247748   \n",
       "std      0.351196     0.120541    0.035215   91.881900   52.209349   \n",
       "min      0.000000     0.000000    0.000000    0.100000   11.000000   \n",
       "25%      0.400000     0.000000    0.000000   21.950000   27.000000   \n",
       "50%      0.500000     0.000000    0.000000   53.450000   36.000000   \n",
       "75%      0.700000     0.000000    0.000000  129.475000   59.750000   \n",
       "max      3.200000     1.300000    0.300000  425.000000  550.000000   \n",
       "\n",
       "              ALT          LDH      Class  \n",
       "count  222.000000   222.000000  222.00000  \n",
       "mean    44.990991   358.324324    0.63964  \n",
       "std     43.933824   162.673070    0.48119  \n",
       "min     10.000000    98.000000    0.00000  \n",
       "25%     22.000000   273.250000    0.00000  \n",
       "50%     32.000000   321.000000    1.00000  \n",
       "75%     46.750000   390.500000    1.00000  \n",
       "max    275.000000  1183.000000    1.00000  "
      ]
     },
     "execution_count": 400,
     "metadata": {},
     "output_type": "execute_result"
    }
   ],
   "source": [
    "data.describe()"
   ]
  },
  {
   "cell_type": "code",
   "execution_count": 401,
   "metadata": {},
   "outputs": [],
   "source": [
    "iqr = 272 - 157 \n",
    "lb = 157 - iqr*1.5\n",
    "ub = 272 + iqr*1.5"
   ]
  },
  {
   "cell_type": "code",
   "execution_count": 402,
   "metadata": {},
   "outputs": [],
   "source": [
    "for ind in data.index:\n",
    "    if data.loc[ind, 'Platelets'] < lb:\n",
    "        data.loc[ind, 'Platelets'] = lb\n",
    "    elif data.loc[ind, 'Platelets'] > ub:\n",
    "        data.loc[ind, 'Platelets'] = ub"
   ]
  },
  {
   "cell_type": "code",
   "execution_count": 403,
   "metadata": {
    "scrolled": true
   },
   "outputs": [
    {
     "data": {
      "text/plain": [
       "<matplotlib.axes._subplots.AxesSubplot at 0x245b7134b80>"
      ]
     },
     "execution_count": 403,
     "metadata": {},
     "output_type": "execute_result"
    },
    {
     "data": {
      "image/png": "[encoded data removed]",
      "text/plain": [
       "<Figure size 432x288 with 1 Axes>"
      ]
     },
     "metadata": {
      "needs_background": "light"
     },
     "output_type": "display_data"
    }
   ],
   "source": [
    "sns.boxplot(data['Neutrophils'])"
   ]
  },
  {
   "cell_type": "code",
   "execution_count": 404,
   "metadata": {},
   "outputs": [],
   "source": [
    "data['Neutrophils'] = np.where(data['Neutrophils']>15, 15, data['Neutrophils'])"
   ]
  },
  {
   "cell_type": "code",
   "execution_count": 405,
   "metadata": {
    "scrolled": true
   },
   "outputs": [
    {
     "data": {
      "text/plain": [
       "<matplotlib.axes._subplots.AxesSubplot at 0x245b7489160>"
      ]
     },
     "execution_count": 405,
     "metadata": {},
     "output_type": "execute_result"
    },
    {
     "data": {
      "image/png": "[encoded data removed]",
      "text/plain": [
       "<Figure size 432x288 with 1 Axes>"
      ]
     },
     "metadata": {
      "needs_background": "light"
     },
     "output_type": "display_data"
    }
   ],
   "source": [
    "sns.boxplot(data['Lymphocytes'])"
   ]
  },
  {
   "cell_type": "code",
   "execution_count": 406,
   "metadata": {},
   "outputs": [],
   "source": [
    "data['Lymphocytes'] = np.where(data['Lymphocytes']>2.9, 2.9, data['Lymphocytes'] )"
   ]
  },
  {
   "cell_type": "code",
   "execution_count": 407,
   "metadata": {
    "scrolled": true
   },
   "outputs": [
    {
     "data": {
      "text/plain": [
       "<matplotlib.axes._subplots.AxesSubplot at 0x245b74c6fa0>"
      ]
     },
     "execution_count": 407,
     "metadata": {},
     "output_type": "execute_result"
    },
    {
     "data": {
      "image/png": "[encoded data removed]",
      "text/plain": [
       "<Figure size 432x288 with 1 Axes>"
      ]
     },
     "metadata": {
      "needs_background": "light"
     },
     "output_type": "display_data"
    }
   ],
   "source": [
    "sns.boxplot(data['Lymphocytes'])"
   ]
  },
  {
   "cell_type": "code",
   "execution_count": 408,
   "metadata": {
    "scrolled": true
   },
   "outputs": [
    {
     "data": {
      "text/html": [
       "<div>\n",
       "<style scoped>\n",
       "    .dataframe tbody tr th:only-of-type {\n",
       "        vertical-align: middle;\n",
       "    }\n",
       "\n",
       "    .dataframe tbody tr th {\n",
       "        vertical-align: top;\n",
       "    }\n",
       "\n",
       "    .dataframe thead th {\n",
       "        text-align: right;\n",
       "    }\n",
       "</style>\n",
       "<table border=\"1\" class=\"dataframe\">\n",
       "  <thead>\n",
       "    <tr style=\"text-align: right;\">\n",
       "      <th></th>\n",
       "      <th>AGE</th>\n",
       "      <th>WBC</th>\n",
       "      <th>Platelets</th>\n",
       "      <th>Neutrophils</th>\n",
       "      <th>Lymphocytes</th>\n",
       "      <th>Monocytes</th>\n",
       "      <th>Eosinophils</th>\n",
       "      <th>Basophils</th>\n",
       "      <th>CRP</th>\n",
       "      <th>AST</th>\n",
       "      <th>ALT</th>\n",
       "      <th>LDH</th>\n",
       "      <th>Class</th>\n",
       "    </tr>\n",
       "  </thead>\n",
       "  <tbody>\n",
       "    <tr>\n",
       "      <th>count</th>\n",
       "      <td>222.000000</td>\n",
       "      <td>222.000000</td>\n",
       "      <td>222.000000</td>\n",
       "      <td>222.000000</td>\n",
       "      <td>222.000000</td>\n",
       "      <td>222.000000</td>\n",
       "      <td>222.000000</td>\n",
       "      <td>222.000000</td>\n",
       "      <td>222.000000</td>\n",
       "      <td>222.000000</td>\n",
       "      <td>222.000000</td>\n",
       "      <td>222.000000</td>\n",
       "      <td>222.00000</td>\n",
       "    </tr>\n",
       "    <tr>\n",
       "      <th>mean</th>\n",
       "      <td>61.472973</td>\n",
       "      <td>8.297297</td>\n",
       "      <td>222.337387</td>\n",
       "      <td>6.463853</td>\n",
       "      <td>1.221914</td>\n",
       "      <td>0.572973</td>\n",
       "      <td>0.039640</td>\n",
       "      <td>0.010811</td>\n",
       "      <td>89.327027</td>\n",
       "      <td>52.247748</td>\n",
       "      <td>44.990991</td>\n",
       "      <td>358.324324</td>\n",
       "      <td>0.63964</td>\n",
       "    </tr>\n",
       "    <tr>\n",
       "      <th>std</th>\n",
       "      <td>18.361791</td>\n",
       "      <td>4.075020</td>\n",
       "      <td>95.788659</td>\n",
       "      <td>3.791923</td>\n",
       "      <td>0.609604</td>\n",
       "      <td>0.351196</td>\n",
       "      <td>0.120541</td>\n",
       "      <td>0.035215</td>\n",
       "      <td>91.881900</td>\n",
       "      <td>52.209349</td>\n",
       "      <td>43.933824</td>\n",
       "      <td>162.673070</td>\n",
       "      <td>0.48119</td>\n",
       "    </tr>\n",
       "    <tr>\n",
       "      <th>min</th>\n",
       "      <td>0.000000</td>\n",
       "      <td>1.100000</td>\n",
       "      <td>20.000000</td>\n",
       "      <td>0.500000</td>\n",
       "      <td>0.200000</td>\n",
       "      <td>0.000000</td>\n",
       "      <td>0.000000</td>\n",
       "      <td>0.000000</td>\n",
       "      <td>0.100000</td>\n",
       "      <td>11.000000</td>\n",
       "      <td>10.000000</td>\n",
       "      <td>98.000000</td>\n",
       "      <td>0.00000</td>\n",
       "    </tr>\n",
       "    <tr>\n",
       "      <th>25%</th>\n",
       "      <td>49.000000</td>\n",
       "      <td>5.100000</td>\n",
       "      <td>157.000000</td>\n",
       "      <td>3.700000</td>\n",
       "      <td>0.800000</td>\n",
       "      <td>0.400000</td>\n",
       "      <td>0.000000</td>\n",
       "      <td>0.000000</td>\n",
       "      <td>21.950000</td>\n",
       "      <td>27.000000</td>\n",
       "      <td>22.000000</td>\n",
       "      <td>273.250000</td>\n",
       "      <td>0.00000</td>\n",
       "    </tr>\n",
       "    <tr>\n",
       "      <th>50%</th>\n",
       "      <td>64.000000</td>\n",
       "      <td>7.250000</td>\n",
       "      <td>199.000000</td>\n",
       "      <td>5.400000</td>\n",
       "      <td>1.074167</td>\n",
       "      <td>0.500000</td>\n",
       "      <td>0.000000</td>\n",
       "      <td>0.000000</td>\n",
       "      <td>53.450000</td>\n",
       "      <td>36.000000</td>\n",
       "      <td>32.000000</td>\n",
       "      <td>321.000000</td>\n",
       "      <td>1.00000</td>\n",
       "    </tr>\n",
       "    <tr>\n",
       "      <th>75%</th>\n",
       "      <td>76.000000</td>\n",
       "      <td>10.775000</td>\n",
       "      <td>272.000000</td>\n",
       "      <td>8.539669</td>\n",
       "      <td>1.566667</td>\n",
       "      <td>0.700000</td>\n",
       "      <td>0.000000</td>\n",
       "      <td>0.000000</td>\n",
       "      <td>129.475000</td>\n",
       "      <td>59.750000</td>\n",
       "      <td>46.750000</td>\n",
       "      <td>390.500000</td>\n",
       "      <td>1.00000</td>\n",
       "    </tr>\n",
       "    <tr>\n",
       "      <th>max</th>\n",
       "      <td>98.000000</td>\n",
       "      <td>17.000000</td>\n",
       "      <td>444.500000</td>\n",
       "      <td>15.000000</td>\n",
       "      <td>2.900000</td>\n",
       "      <td>3.200000</td>\n",
       "      <td>1.300000</td>\n",
       "      <td>0.300000</td>\n",
       "      <td>425.000000</td>\n",
       "      <td>550.000000</td>\n",
       "      <td>275.000000</td>\n",
       "      <td>1183.000000</td>\n",
       "      <td>1.00000</td>\n",
       "    </tr>\n",
       "  </tbody>\n",
       "</table>\n",
       "</div>"
      ],
      "text/plain": [
       "              AGE         WBC   Platelets  Neutrophils  Lymphocytes  \\\n",
       "count  222.000000  222.000000  222.000000   222.000000   222.000000   \n",
       "mean    61.472973    8.297297  222.337387     6.463853     1.221914   \n",
       "std     18.361791    4.075020   95.788659     3.791923     0.609604   \n",
       "min      0.000000    1.100000   20.000000     0.500000     0.200000   \n",
       "25%     49.000000    5.100000  157.000000     3.700000     0.800000   \n",
       "50%     64.000000    7.250000  199.000000     5.400000     1.074167   \n",
       "75%     76.000000   10.775000  272.000000     8.539669     1.566667   \n",
       "max     98.000000   17.000000  444.500000    15.000000     2.900000   \n",
       "\n",
       "        Monocytes  Eosinophils   Basophils         CRP         AST  \\\n",
       "count  222.000000   222.000000  222.000000  222.000000  222.000000   \n",
       "mean     0.572973     0.039640    0.010811   89.327027   52.247748   \n",
       "std      0.351196     0.120541    0.035215   91.881900   52.209349   \n",
       "min      0.000000     0.000000    0.000000    0.100000   11.000000   \n",
       "25%      0.400000     0.000000    0.000000   21.950000   27.000000   \n",
       "50%      0.500000     0.000000    0.000000   53.450000   36.000000   \n",
       "75%      0.700000     0.000000    0.000000  129.475000   59.750000   \n",
       "max      3.200000     1.300000    0.300000  425.000000  550.000000   \n",
       "\n",
       "              ALT          LDH      Class  \n",
       "count  222.000000   222.000000  222.00000  \n",
       "mean    44.990991   358.324324    0.63964  \n",
       "std     43.933824   162.673070    0.48119  \n",
       "min     10.000000    98.000000    0.00000  \n",
       "25%     22.000000   273.250000    0.00000  \n",
       "50%     32.000000   321.000000    1.00000  \n",
       "75%     46.750000   390.500000    1.00000  \n",
       "max    275.000000  1183.000000    1.00000  "
      ]
     },
     "execution_count": 408,
     "metadata": {},
     "output_type": "execute_result"
    }
   ],
   "source": [
    "data.describe()"
   ]
  },
  {
   "cell_type": "markdown",
   "metadata": {},
   "source": [
    "### Encoding GENDER Column with Male as 1 and Female as 0"
   ]
  },
  {
   "cell_type": "code",
   "execution_count": 409,
   "metadata": {},
   "outputs": [],
   "source": [
    "data['GENDER']=data['GENDER'].map({'M':1,'F':0})"
   ]
  },
  {
   "cell_type": "markdown",
   "metadata": {},
   "source": [
    "- Splitting X and Y data"
   ]
  },
  {
   "cell_type": "code",
   "execution_count": 410,
   "metadata": {},
   "outputs": [],
   "source": [
    "X=data.drop('Class',axis=1)\n",
    "y=data['Class']"
   ]
  },
  {
   "cell_type": "code",
   "execution_count": 411,
   "metadata": {},
   "outputs": [],
   "source": [
    "data.to_csv('data_cleaned_final.csv')"
   ]
  },
  {
   "cell_type": "markdown",
   "metadata": {},
   "source": [
    "## Scaling the Data"
   ]
  },
  {
   "cell_type": "code",
   "execution_count": 412,
   "metadata": {},
   "outputs": [],
   "source": [
    "from sklearn.preprocessing import StandardScaler\n",
    "scaler=StandardScaler()\n",
    "X=data.drop('Class',axis=1)\n",
    "X_scaled = pd.DataFrame(scaler.fit_transform(X),columns=X.columns)\n",
    "y=data['Class']"
   ]
  },
  {
   "cell_type": "code",
   "execution_count": 413,
   "metadata": {},
   "outputs": [
    {
     "data": {
      "text/html": [
       "<div>\n",
       "<style scoped>\n",
       "    .dataframe tbody tr th:only-of-type {\n",
       "        vertical-align: middle;\n",
       "    }\n",
       "\n",
       "    .dataframe tbody tr th {\n",
       "        vertical-align: top;\n",
       "    }\n",
       "\n",
       "    .dataframe thead th {\n",
       "        text-align: right;\n",
       "    }\n",
       "</style>\n",
       "<table border=\"1\" class=\"dataframe\">\n",
       "  <thead>\n",
       "    <tr style=\"text-align: right;\">\n",
       "      <th></th>\n",
       "      <th>GENDER</th>\n",
       "      <th>AGE</th>\n",
       "      <th>WBC</th>\n",
       "      <th>Platelets</th>\n",
       "      <th>Neutrophils</th>\n",
       "      <th>Lymphocytes</th>\n",
       "      <th>Monocytes</th>\n",
       "      <th>Eosinophils</th>\n",
       "      <th>Basophils</th>\n",
       "      <th>CRP</th>\n",
       "      <th>AST</th>\n",
       "      <th>ALT</th>\n",
       "      <th>LDH</th>\n",
       "    </tr>\n",
       "  </thead>\n",
       "  <tbody>\n",
       "    <tr>\n",
       "      <th>0</th>\n",
       "      <td>-1.443376</td>\n",
       "      <td>0.465439</td>\n",
       "      <td>-0.835573</td>\n",
       "      <td>-0.809200</td>\n",
       "      <td>-0.651232</td>\n",
       "      <td>-0.858088</td>\n",
       "      <td>-0.779023</td>\n",
       "      <td>-0.32959</td>\n",
       "      <td>-0.307692</td>\n",
       "      <td>-0.015566</td>\n",
       "      <td>0.302395</td>\n",
       "      <td>-0.091046</td>\n",
       "      <td>1.525977</td>\n",
       "    </tr>\n",
       "    <tr>\n",
       "      <th>1</th>\n",
       "      <td>0.692820</td>\n",
       "      <td>-0.025817</td>\n",
       "      <td>0.738521</td>\n",
       "      <td>-0.589472</td>\n",
       "      <td>1.119675</td>\n",
       "      <td>-1.186912</td>\n",
       "      <td>-1.349793</td>\n",
       "      <td>-0.32959</td>\n",
       "      <td>-0.307692</td>\n",
       "      <td>0.926896</td>\n",
       "      <td>1.262242</td>\n",
       "      <td>1.140853</td>\n",
       "      <td>2.770538</td>\n",
       "    </tr>\n",
       "    <tr>\n",
       "      <th>2</th>\n",
       "      <td>-1.443376</td>\n",
       "      <td>0.465439</td>\n",
       "      <td>1.845306</td>\n",
       "      <td>-0.212795</td>\n",
       "      <td>1.965481</td>\n",
       "      <td>-0.364853</td>\n",
       "      <td>0.647901</td>\n",
       "      <td>-0.32959</td>\n",
       "      <td>-0.307692</td>\n",
       "      <td>-0.496615</td>\n",
       "      <td>-0.619058</td>\n",
       "      <td>-0.433240</td>\n",
       "      <td>-0.759825</td>\n",
       "    </tr>\n",
       "    <tr>\n",
       "      <th>3</th>\n",
       "      <td>0.692820</td>\n",
       "      <td>1.284199</td>\n",
       "      <td>0.566355</td>\n",
       "      <td>0.048786</td>\n",
       "      <td>0.531133</td>\n",
       "      <td>0.566813</td>\n",
       "      <td>-0.208254</td>\n",
       "      <td>-0.32959</td>\n",
       "      <td>-0.307692</td>\n",
       "      <td>-0.905670</td>\n",
       "      <td>-0.407892</td>\n",
       "      <td>-0.661370</td>\n",
       "      <td>-0.229962</td>\n",
       "    </tr>\n",
       "    <tr>\n",
       "      <th>4</th>\n",
       "      <td>-1.443376</td>\n",
       "      <td>1.502535</td>\n",
       "      <td>-0.933953</td>\n",
       "      <td>-0.547619</td>\n",
       "      <td>-0.704095</td>\n",
       "      <td>-1.186912</td>\n",
       "      <td>-1.064408</td>\n",
       "      <td>-0.32959</td>\n",
       "      <td>-0.307692</td>\n",
       "      <td>0.482935</td>\n",
       "      <td>0.091229</td>\n",
       "      <td>-0.638557</td>\n",
       "      <td>1.649201</td>\n",
       "    </tr>\n",
       "  </tbody>\n",
       "</table>\n",
       "</div>"
      ],
      "text/plain": [
       "     GENDER       AGE       WBC  Platelets  Neutrophils  Lymphocytes  \\\n",
       "0 -1.443376  0.465439 -0.835573  -0.809200    -0.651232    -0.858088   \n",
       "1  0.692820 -0.025817  0.738521  -0.589472     1.119675    -1.186912   \n",
       "2 -1.443376  0.465439  1.845306  -0.212795     1.965481    -0.364853   \n",
       "3  0.692820  1.284199  0.566355   0.048786     0.531133     0.566813   \n",
       "4 -1.443376  1.502535 -0.933953  -0.547619    -0.704095    -1.186912   \n",
       "\n",
       "   Monocytes  Eosinophils  Basophils       CRP       AST       ALT       LDH  \n",
       "0  -0.779023     -0.32959  -0.307692 -0.015566  0.302395 -0.091046  1.525977  \n",
       "1  -1.349793     -0.32959  -0.307692  0.926896  1.262242  1.140853  2.770538  \n",
       "2   0.647901     -0.32959  -0.307692 -0.496615 -0.619058 -0.433240 -0.759825  \n",
       "3  -0.208254     -0.32959  -0.307692 -0.905670 -0.407892 -0.661370 -0.229962  \n",
       "4  -1.064408     -0.32959  -0.307692  0.482935  0.091229 -0.638557  1.649201  "
      ]
     },
     "execution_count": 413,
     "metadata": {},
     "output_type": "execute_result"
    }
   ],
   "source": [
    "X_scaled.head()"
   ]
  },
  {
   "cell_type": "code",
   "execution_count": null,
   "metadata": {},
   "outputs": [],
   "source": []
  },
  {
   "cell_type": "markdown",
   "metadata": {},
   "source": [
    "## Over Sampling the data"
   ]
  },
  {
   "cell_type": "code",
   "execution_count": 414,
   "metadata": {},
   "outputs": [
    {
     "data": {
      "text/plain": [
       "<matplotlib.axes._subplots.AxesSubplot at 0x245b74f09d0>"
      ]
     },
     "execution_count": 414,
     "metadata": {},
     "output_type": "execute_result"
    },
    {
     "data": {
      "image/png": "[encoded data removed]",
      "text/plain": [
       "<Figure size 432x288 with 1 Axes>"
      ]
     },
     "metadata": {
      "needs_background": "light"
     },
     "output_type": "display_data"
    }
   ],
   "source": [
    "sns.countplot(data['Class'])"
   ]
  },
  {
   "cell_type": "markdown",
   "metadata": {},
   "source": [
    "- The data is imbalanced we are performing Oversampling inorder to prevent bias"
   ]
  },
  {
   "cell_type": "code",
   "execution_count": 415,
   "metadata": {},
   "outputs": [],
   "source": [
    "import imblearn\n",
    "from imblearn.over_sampling import RandomOverSampler\n",
    "ros = RandomOverSampler()\n",
    "X_ros,y_ros=ros.fit_resample(X_scaled,y)"
   ]
  },
  {
   "cell_type": "code",
   "execution_count": 416,
   "metadata": {},
   "outputs": [
    {
     "data": {
      "text/plain": [
       "<matplotlib.axes._subplots.AxesSubplot at 0x245b63acb50>"
      ]
     },
     "execution_count": 416,
     "metadata": {},
     "output_type": "execute_result"
    },
    {
     "data": {
      "image/png": "[encoded data removed]",
      "text/plain": [
       "<Figure size 432x288 with 1 Axes>"
      ]
     },
     "metadata": {
      "needs_background": "light"
     },
     "output_type": "display_data"
    }
   ],
   "source": [
    "sns.countplot(y_ros)"
   ]
  },
  {
   "cell_type": "markdown",
   "metadata": {},
   "source": [
    "# Validating func\n"
   ]
  },
  {
   "cell_type": "code",
   "execution_count": 417,
   "metadata": {},
   "outputs": [],
   "source": [
    "from sklearn.metrics import accuracy_score,precision_score,recall_score,confusion_matrix,matthews_corrcoef\n",
    "from sklearn.model_selection import KFold\n",
    "from sklearn.model_selection import cross_val_score\n",
    "\n",
    "cv = KFold(n_splits=10, random_state=1, shuffle=True)"
   ]
  },
  {
   "cell_type": "code",
   "execution_count": 527,
   "metadata": {},
   "outputs": [],
   "source": [
    "def validate(model,xd,yd):\n",
    "    yp = model.predict(xd)\n",
    "    print(\"Results on Train set :\",accuracy_score(yd,yp))\n",
    "    print(\"MCC SCORE : \",matthews_corrcoef(yd,yp))\n",
    "    print(\"Accuracy :\", accuracy_score(yd,yp))\n",
    "    print(\"Precision :\",precision_score(yd,yp))   \n",
    "    print(\"Recall :\",recall_score(yd,yp))\n",
    "    scores = cross_val_score(model, xd, yd, scoring='accuracy', cv=cv, n_jobs=-1)\n",
    "    print(\"Cross validation scores :\",scores)\n",
    "    print(\"Mean Score : \",scores.mean())"
   ]
  },
  {
   "cell_type": "markdown",
   "metadata": {},
   "source": [
    "## Logistic Regression"
   ]
  },
  {
   "cell_type": "code",
   "execution_count": 419,
   "metadata": {
    "scrolled": false
   },
   "outputs": [],
   "source": [
    "from sklearn.linear_model import LogisticRegression"
   ]
  },
  {
   "cell_type": "code",
   "execution_count": 420,
   "metadata": {},
   "outputs": [],
   "source": [
    "logreg = LogisticRegression()"
   ]
  },
  {
   "cell_type": "code",
   "execution_count": 421,
   "metadata": {},
   "outputs": [
    {
     "data": {
      "text/plain": [
       "LogisticRegression()"
      ]
     },
     "execution_count": 421,
     "metadata": {},
     "output_type": "execute_result"
    }
   ],
   "source": [
    "logreg.fit(X_ros,y_ros)"
   ]
  },
  {
   "cell_type": "code",
   "execution_count": 422,
   "metadata": {},
   "outputs": [
    {
     "name": "stdout",
     "output_type": "stream",
     "text": [
      "Results on Train set : 0.8133802816901409\n",
      "MCC SCORE :  0.6275234912262374\n",
      "Accuracy : 0.8133802816901409\n",
      "Precision : 0.8296296296296296\n",
      "Recall : 0.7887323943661971\n",
      "Cross validation scores : [0.82758621 0.72413793 0.75862069 0.75862069 0.78571429 0.82142857\n",
      " 0.78571429 0.78571429 0.75       0.89285714]\n",
      "Mean Score :  0.7890394088669951\n"
     ]
    }
   ],
   "source": [
    "validate(logreg,X_ros,y_ros)"
   ]
  },
  {
   "cell_type": "markdown",
   "metadata": {},
   "source": [
    "## Decision Tree "
   ]
  },
  {
   "cell_type": "code",
   "execution_count": null,
   "metadata": {},
   "outputs": [],
   "source": []
  },
  {
   "cell_type": "code",
   "execution_count": 529,
   "metadata": {},
   "outputs": [
    {
     "data": {
      "text/plain": [
       "DecisionTreeClassifier(criterion='entropy', max_depth=7, max_features='auto')"
      ]
     },
     "execution_count": 529,
     "metadata": {},
     "output_type": "execute_result"
    }
   ],
   "source": [
    "from sklearn.tree import DecisionTreeClassifier\n",
    "dt = DecisionTreeClassifier(max_features='auto', max_depth = 7, criterion = \"entropy\")\n",
    "dt.fit(X_ros, y_ros)"
   ]
  },
  {
   "cell_type": "code",
   "execution_count": 530,
   "metadata": {},
   "outputs": [
    {
     "name": "stdout",
     "output_type": "stream",
     "text": [
      "Results on Train set : 0.971830985915493\n",
      "MCC SCORE :  0.9445054896779567\n",
      "Accuracy : 0.971830985915493\n",
      "Precision : 0.9926470588235294\n",
      "Recall : 0.9507042253521126\n",
      "Cross validation scores : [0.89655172 0.82758621 0.93103448 0.82758621 0.89285714 0.92857143\n",
      " 0.82142857 0.89285714 0.92857143 0.75      ]\n",
      "Mean Score :  0.869704433497537\n"
     ]
    }
   ],
   "source": [
    "validate(dt,X_ros, y_ros)"
   ]
  },
  {
   "cell_type": "markdown",
   "metadata": {},
   "source": [
    "## SVM"
   ]
  },
  {
   "cell_type": "code",
   "execution_count": 485,
   "metadata": {},
   "outputs": [
    {
     "data": {
      "text/plain": [
       "SVC()"
      ]
     },
     "execution_count": 485,
     "metadata": {},
     "output_type": "execute_result"
    }
   ],
   "source": [
    "from sklearn.svm import SVC\n",
    "svm = SVC()\n",
    "svm.fit(X_scaled, y)"
   ]
  },
  {
   "cell_type": "code",
   "execution_count": 528,
   "metadata": {},
   "outputs": [
    {
     "name": "stdout",
     "output_type": "stream",
     "text": [
      "Results on Train set : 0.8468468468468469\n",
      "MCC SCORE :  0.6624859374891606\n",
      "Accuracy : 0.8468468468468469\n",
      "Precision : 0.86\n",
      "Recall : 0.9084507042253521\n",
      "Cross validation scores : [0.73913043 0.86956522 0.77272727 0.72727273 0.68181818 0.72727273\n",
      " 0.77272727 0.68181818 0.81818182 0.72727273]\n",
      "Mean Score :  0.7517786561264823\n"
     ]
    }
   ],
   "source": [
    "validate(svm,X_scaled, y)"
   ]
  },
  {
   "cell_type": "markdown",
   "metadata": {},
   "source": [
    "## Random forest Classifier"
   ]
  },
  {
   "cell_type": "code",
   "execution_count": 427,
   "metadata": {},
   "outputs": [],
   "source": [
    "from sklearn.ensemble import RandomForestClassifier\n",
    "from sklearn.model_selection import RandomizedSearchCV"
   ]
  },
  {
   "cell_type": "code",
   "execution_count": 316,
   "metadata": {},
   "outputs": [
    {
     "name": "stdout",
     "output_type": "stream",
     "text": [
      "{'n_estimators': [200, 400, 600, 800, 1000, 1200, 1400, 1600, 1800, 2000], 'max_features': ['auto', 'sqrt', 'log2'], 'max_depth': [10, 120, 230, 340, 450, 560, 670, 780, 890, 1000], 'min_samples_split': [1, 2, 3, 4, 5, 7, 9, 11], 'min_samples_leaf': [1, 2, 4, 6, 8], 'criterion': ['entropy', 'gini']}\n"
     ]
    }
   ],
   "source": [
    "\n",
    "n_estimators = [int(x) for x in np.linspace(start = 200, stop = 2000, num = 10)]\n",
    "max_features = ['auto', 'sqrt','log2']\n",
    "max_depth = [int(x) for x in np.linspace(10, 1000,10)]\n",
    "min_samples_split = [1, 2, 3, 4, 5, 7, 9, 11]\n",
    "min_samples_leaf = [1, 2, 4, 6, 8]\n",
    "random_grid = {'n_estimators': n_estimators,\n",
    "               'max_features': max_features,\n",
    "               'max_depth': max_depth,\n",
    "               'min_samples_split': min_samples_split,\n",
    "               'min_samples_leaf': min_samples_leaf,\n",
    "              'criterion':['entropy','gini']}\n",
    "print(random_grid)"
   ]
  },
  {
   "cell_type": "code",
   "execution_count": 157,
   "metadata": {},
   "outputs": [
    {
     "name": "stdout",
     "output_type": "stream",
     "text": [
      "Fitting 3 folds for each of 100 candidates, totalling 300 fits\n"
     ]
    },
    {
     "name": "stderr",
     "output_type": "stream",
     "text": [
      "C:\\Users\\Sathish\\anaconda3\\lib\\site-packages\\sklearn\\model_selection\\_validation.py:372: FitFailedWarning: \n",
      "30 fits failed out of a total of 300.\n",
      "The score on these train-test partitions for these parameters will be set to nan.\n",
      "If these failures are not expected, you can try to debug them by setting error_score='raise'.\n",
      "\n",
      "Below are more details about the failures:\n",
      "--------------------------------------------------------------------------------\n",
      "30 fits failed with the following error:\n",
      "Traceback (most recent call last):\n",
      "  File \"C:\\Users\\Sathish\\anaconda3\\lib\\site-packages\\sklearn\\model_selection\\_validation.py\", line 680, in _fit_and_score\n",
      "    estimator.fit(X_train, y_train, **fit_params)\n",
      "  File \"C:\\Users\\Sathish\\anaconda3\\lib\\site-packages\\sklearn\\ensemble\\_forest.py\", line 450, in fit\n",
      "    trees = Parallel(\n",
      "  File \"C:\\Users\\Sathish\\anaconda3\\lib\\site-packages\\joblib\\parallel.py\", line 1029, in __call__\n",
      "    if self.dispatch_one_batch(iterator):\n",
      "  File \"C:\\Users\\Sathish\\anaconda3\\lib\\site-packages\\joblib\\parallel.py\", line 847, in dispatch_one_batch\n",
      "    self._dispatch(tasks)\n",
      "  File \"C:\\Users\\Sathish\\anaconda3\\lib\\site-packages\\joblib\\parallel.py\", line 765, in _dispatch\n",
      "    job = self._backend.apply_async(batch, callback=cb)\n",
      "  File \"C:\\Users\\Sathish\\anaconda3\\lib\\site-packages\\joblib\\_parallel_backends.py\", line 208, in apply_async\n",
      "    result = ImmediateResult(func)\n",
      "  File \"C:\\Users\\Sathish\\anaconda3\\lib\\site-packages\\joblib\\_parallel_backends.py\", line 572, in __init__\n",
      "    self.results = batch()\n",
      "  File \"C:\\Users\\Sathish\\anaconda3\\lib\\site-packages\\joblib\\parallel.py\", line 252, in __call__\n",
      "    return [func(*args, **kwargs)\n",
      "  File \"C:\\Users\\Sathish\\anaconda3\\lib\\site-packages\\joblib\\parallel.py\", line 252, in <listcomp>\n",
      "    return [func(*args, **kwargs)\n",
      "  File \"C:\\Users\\Sathish\\anaconda3\\lib\\site-packages\\sklearn\\utils\\fixes.py\", line 216, in __call__\n",
      "    return self.function(*args, **kwargs)\n",
      "  File \"C:\\Users\\Sathish\\anaconda3\\lib\\site-packages\\sklearn\\ensemble\\_forest.py\", line 185, in _parallel_build_trees\n",
      "    tree.fit(X, y, sample_weight=curr_sample_weight, check_input=False)\n",
      "  File \"C:\\Users\\Sathish\\anaconda3\\lib\\site-packages\\sklearn\\tree\\_classes.py\", line 937, in fit\n",
      "    super().fit(\n",
      "  File \"C:\\Users\\Sathish\\anaconda3\\lib\\site-packages\\sklearn\\tree\\_classes.py\", line 250, in fit\n",
      "    raise ValueError(\n",
      "ValueError: min_samples_split must be an integer greater than 1 or a float in (0.0, 1.0]; got the integer 1\n",
      "\n",
      "  warnings.warn(some_fits_failed_message, FitFailedWarning)\n",
      "C:\\Users\\Sathish\\anaconda3\\lib\\site-packages\\sklearn\\model_selection\\_search.py:969: UserWarning: One or more of the test scores are non-finite: [0.86036036 0.87387387 0.86936937 0.86486486 0.86036036 0.86036036\n",
      " 0.85135135 0.85135135        nan 0.87387387 0.85135135 0.86486486\n",
      " 0.87837838 0.85135135 0.88288288 0.87387387 0.84234234 0.85585586\n",
      " 0.86936937 0.86936937 0.86036036 0.86936937        nan 0.85585586\n",
      " 0.86036036 0.87387387 0.86936937 0.86036036 0.87387387 0.86486486\n",
      " 0.87387387 0.87387387 0.87387387 0.87837838 0.87387387 0.86936937\n",
      " 0.86936937 0.87387387 0.86936937 0.84684685 0.86486486 0.88288288\n",
      " 0.86936937 0.85135135        nan 0.85585586 0.87387387 0.85135135\n",
      " 0.87387387 0.86936937 0.86936937 0.84234234 0.86936937 0.85135135\n",
      " 0.84234234        nan 0.86486486 0.88288288 0.87837838 0.84234234\n",
      " 0.85135135 0.86936937 0.87837838 0.85135135 0.86936937 0.85585586\n",
      " 0.86936937 0.86936937 0.87837838        nan 0.86936937 0.86486486\n",
      "        nan 0.87837838 0.87387387 0.86036036 0.86486486 0.86936937\n",
      " 0.88288288 0.86036036        nan 0.86936937 0.87387387 0.86486486\n",
      "        nan 0.88288288 0.86486486 0.86486486 0.86036036        nan\n",
      " 0.86936937 0.86486486 0.86036036 0.85135135        nan 0.84684685\n",
      " 0.86036036 0.87837838 0.86936937 0.86936937]\n",
      "  warnings.warn(\n"
     ]
    },
    {
     "data": {
      "text/plain": [
       "RandomizedSearchCV(cv=3, estimator=RandomForestClassifier(), n_iter=100,\n",
       "                   n_jobs=-1,\n",
       "                   param_distributions={'criterion': ['entropy', 'gini'],\n",
       "                                        'max_depth': [10, 120, 230, 340, 450,\n",
       "                                                      560, 670, 780, 890,\n",
       "                                                      1000],\n",
       "                                        'max_features': ['auto', 'sqrt',\n",
       "                                                         'log2'],\n",
       "                                        'min_samples_leaf': [1, 2, 4, 6, 8],\n",
       "                                        'min_samples_split': [1, 2, 3, 4, 5, 7,\n",
       "                                                              9, 11],\n",
       "                                        'n_estimators': [200, 400, 600, 800,\n",
       "                                                         1000, 1200, 1400, 1600,\n",
       "                                                         1800, 2000]},\n",
       "                   random_state=100, verbose=2)"
      ]
     },
     "execution_count": 157,
     "metadata": {},
     "output_type": "execute_result"
    }
   ],
   "source": [
    "rf=RandomForestClassifier()\n",
    "rf_randomcv=RandomizedSearchCV(estimator=rf,param_distributions=random_grid,n_iter=100,cv=3,verbose=2,\n",
    "                               random_state=100,n_jobs=-1)\n",
    "rf_randomcv.fit(X_scaled,y)"
   ]
  },
  {
   "cell_type": "code",
   "execution_count": 158,
   "metadata": {},
   "outputs": [],
   "source": [
    "best_random_grid=rf_randomcv.best_estimator_"
   ]
  },
  {
   "cell_type": "code",
   "execution_count": 360,
   "metadata": {
    "scrolled": false
   },
   "outputs": [
    {
     "name": "stdout",
     "output_type": "stream",
     "text": [
      "Results on Train set : 0.990990990990991\n",
      "MCC SCORE :  0.9805398173115324\n",
      "Accuracy : 0.990990990990991\n",
      "Precision : 0.9861111111111112\n",
      "Recall : 1.0\n",
      "Cross validation scores : [0.86666667 0.91111111 0.79545455 0.86363636 0.90909091]\n",
      "Mean Score :  0.8691919191919192\n"
     ]
    }
   ],
   "source": [
    "validate(best_random_grid,X_scaled,y)"
   ]
  },
  {
   "cell_type": "code",
   "execution_count": null,
   "metadata": {},
   "outputs": [],
   "source": []
  },
  {
   "cell_type": "markdown",
   "metadata": {},
   "source": [
    "# Hybrid Model"
   ]
  },
  {
   "cell_type": "code",
   "execution_count": 428,
   "metadata": {},
   "outputs": [],
   "source": [
    "from sklearn.neighbors import KNeighborsClassifier\n",
    "from sklearn.naive_bayes import GaussianNB"
   ]
  },
  {
   "cell_type": "code",
   "execution_count": 429,
   "metadata": {},
   "outputs": [
    {
     "data": {
      "text/plain": [
       "VotingClassifier(estimators=[('logistic1', LogisticRegression(random_state=0)),\n",
       "                             ('logistic2', LogisticRegression(random_state=0)),\n",
       "                             ('logistic3', LogisticRegression(random_state=0)),\n",
       "                             ('logistic4', LogisticRegression(random_state=0)),\n",
       "                             ('logistic5', LogisticRegression(random_state=0)),\n",
       "                             ('cart1', DecisionTreeClassifier(max_depth=3)),\n",
       "                             ('cart2', DecisionTreeClassifie...\n",
       "                             ('svm2', SVC(kernel='poly')), ('svm3', SVC()),\n",
       "                             ('svm4', SVC()), ('svm5', SVC(kernel='linear')),\n",
       "                             ('knn1', KNeighborsClassifier()),\n",
       "                             ('knn2', KNeighborsClassifier()),\n",
       "                             ('knn3', KNeighborsClassifier(n_neighbors=6)),\n",
       "                             ('knn4', KNeighborsClassifier(n_neighbors=4, p=1)),\n",
       "                             ('knn5', KNeighborsClassifier(p=1)),\n",
       "                             ('nbs1', GaussianNB()), ('nbs2', GaussianNB()),\n",
       "                             ('nbs3', GaussianNB()), ('nbs4', GaussianNB()),\n",
       "                             ('nbs5', GaussianNB())])"
      ]
     },
     "execution_count": 429,
     "metadata": {},
     "output_type": "execute_result"
    }
   ],
   "source": [
    "estimators = []\n",
    "model11 = LogisticRegression(penalty = 'l2', random_state = 0)\n",
    "estimators.append(('logistic1', model11))\n",
    "model12 = LogisticRegression(penalty = 'l2', random_state = 0)\n",
    "estimators.append(('logistic2', model12))\n",
    "model13 = LogisticRegression(penalty = 'l2', random_state = 0)\n",
    "estimators.append(('logistic3', model13))\n",
    "model14 = LogisticRegression(penalty = 'l2', random_state = 0)\n",
    "estimators.append(('logistic4', model14))\n",
    "model15 = LogisticRegression(penalty = 'l2', random_state = 0)\n",
    "estimators.append(('logistic5', model15))\n",
    "\n",
    "model16 = DecisionTreeClassifier(max_depth = 3)\n",
    "estimators.append(('cart1', model16))\n",
    "model17 = DecisionTreeClassifier(max_depth = 4)\n",
    "estimators.append(('cart2', model17))\n",
    "model18 = DecisionTreeClassifier(max_depth = 5)\n",
    "estimators.append(('cart3', model18))\n",
    "model19 = DecisionTreeClassifier(max_depth = 2)\n",
    "estimators.append(('cart4', model19))\n",
    "model20 = DecisionTreeClassifier(max_depth = 3)\n",
    "estimators.append(('cart5', model20))\n",
    "\n",
    "model21 = SVC(kernel = 'linear')\n",
    "estimators.append(('svm1', model21))\n",
    "model22 = SVC(kernel = 'poly')\n",
    "estimators.append(('svm2', model22))\n",
    "model23 = SVC(kernel = 'rbf')\n",
    "estimators.append(('svm3', model23))\n",
    "model24 = SVC(kernel = 'rbf')\n",
    "estimators.append(('svm4', model24))\n",
    "model25 = SVC(kernel = 'linear')\n",
    "estimators.append(('svm5', model25))\n",
    "\n",
    "model26 = KNeighborsClassifier(n_neighbors = 5, metric = 'minkowski', p = 2)\n",
    "estimators.append(('knn1', model26))\n",
    "model27 = KNeighborsClassifier(n_neighbors = 5, metric = 'minkowski', p = 2)\n",
    "estimators.append(('knn2', model27))\n",
    "model28 = KNeighborsClassifier(n_neighbors = 6, metric = 'minkowski', p = 2)\n",
    "estimators.append(('knn3', model28))\n",
    "model29 = KNeighborsClassifier(n_neighbors = 4, metric = 'minkowski', p = 1)\n",
    "estimators.append(('knn4', model29))\n",
    "model30 = KNeighborsClassifier(n_neighbors = 5, metric = 'minkowski', p = 1)\n",
    "estimators.append(('knn5', model30))\n",
    "\n",
    "model31 = GaussianNB()\n",
    "estimators.append(('nbs1', model31))\n",
    "model32 = GaussianNB()\n",
    "estimators.append(('nbs2', model32))\n",
    "model33 = GaussianNB()\n",
    "estimators.append(('nbs3', model33))\n",
    "model34 = GaussianNB()\n",
    "estimators.append(('nbs4', model34))\n",
    "model35 = GaussianNB()\n",
    "estimators.append(('nbs5', model35))\n",
    "\n",
    "from sklearn.ensemble import VotingClassifier\n",
    "ensemble = VotingClassifier(estimators)\n",
    "ensemble.fit(X_scaled, y)"
   ]
  },
  {
   "cell_type": "code",
   "execution_count": 430,
   "metadata": {},
   "outputs": [
    {
     "name": "stdout",
     "output_type": "stream",
     "text": [
      "Results on Train set : 0.8513513513513513\n",
      "MCC SCORE :  0.6767029735504548\n",
      "Accuracy : 0.8513513513513513\n",
      "Precision : 0.8811188811188811\n",
      "Recall : 0.8873239436619719\n",
      "Cross validation scores : [0.7826087  0.7826087  0.90909091 0.86363636 0.72727273 0.68181818\n",
      " 0.77272727 0.72727273 0.86363636 0.81818182]\n",
      "Mean Score :  0.7928853754940711\n"
     ]
    }
   ],
   "source": [
    "validate(ensemble,X_scaled,y)"
   ]
  },
  {
   "cell_type": "markdown",
   "metadata": {},
   "source": [
    "## Recursive Feature Elimination"
   ]
  },
  {
   "cell_type": "code",
   "execution_count": 431,
   "metadata": {},
   "outputs": [
    {
     "name": "stdout",
     "output_type": "stream",
     "text": [
      "Selected Columns : \n",
      " ['AGE', 'WBC', 'Lymphocytes', 'Monocytes', 'CRP', 'AST', 'ALT', 'LDH']\n"
     ]
    }
   ],
   "source": [
    "from sklearn.feature_selection import RFECV\n",
    "from sklearn.pipeline import Pipeline\n",
    "\n",
    "rfecv = RFECV(\n",
    "    estimator=RandomForestClassifier(),\n",
    "    min_features_to_select=4,\n",
    "    step=5,\n",
    "    n_jobs=-1,\n",
    "    scoring=\"accuracy\",\n",
    "    cv=5,\n",
    ")\n",
    "\n",
    "selector = rfecv.fit(X,y)\n",
    "cols = data.drop('Class', axis=1).columns\n",
    "isOk = selector.support_\n",
    "selected_cols = []\n",
    "for i in range(len(cols)):\n",
    "    if isOk[i]:\n",
    "        selected_cols.append(cols[i])\n",
    "        \n",
    "print(\"Selected Columns : \\n\",selected_cols)"
   ]
  },
  {
   "cell_type": "code",
   "execution_count": 432,
   "metadata": {},
   "outputs": [],
   "source": [
    "from sklearn.model_selection import train_test_split"
   ]
  },
  {
   "cell_type": "code",
   "execution_count": 433,
   "metadata": {},
   "outputs": [],
   "source": [
    "x_train, x_test, y_train, y_test = train_test_split(data[selected_cols],data['Class'], random_state = 42)"
   ]
  },
  {
   "cell_type": "code",
   "execution_count": null,
   "metadata": {},
   "outputs": [],
   "source": []
  },
  {
   "cell_type": "code",
   "execution_count": 434,
   "metadata": {},
   "outputs": [
    {
     "name": "stdout",
     "output_type": "stream",
     "text": [
      "Accuracy :  0.625\n",
      "Recall :  0.7647058823529411\n",
      "Confusion Matrix : \n",
      " [[ 9 13]\n",
      " [ 8 26]]\n"
     ]
    }
   ],
   "source": [
    "svm_model = svm.fit(x_train, y_train)\n",
    "y_pred = svm_model.predict(x_test)\n",
    "print(\"Accuracy : \",accuracy_score(y_test, y_pred))\n",
    "print(\"Recall : \",recall_score(y_test, y_pred))\n",
    "print(\"Confusion Matrix : \\n\",confusion_matrix(y_test, y_pred))"
   ]
  },
  {
   "cell_type": "code",
   "execution_count": null,
   "metadata": {},
   "outputs": [],
   "source": []
  },
  {
   "cell_type": "code",
   "execution_count": null,
   "metadata": {},
   "outputs": [],
   "source": []
  },
  {
   "cell_type": "code",
   "execution_count": 489,
   "metadata": {},
   "outputs": [],
   "source": [
    "import pickle"
   ]
  },
  {
   "cell_type": "code",
   "execution_count": 490,
   "metadata": {},
   "outputs": [],
   "source": [
    "# saving Logistic Regression Model\n",
    "pickle.dump(\n",
    "    logreg,\n",
    "    open(\"models/logreg.pkl\", \"wb\")\n",
    ")\n",
    "\n",
    "# saving decision tree model\n",
    "pickle.dump(\n",
    "    dt,\n",
    "    open(\"models/dt.pkl\", \"wb\")\n",
    ")\n",
    "\n",
    "# saving SVM Model\n",
    "pickle.dump(\n",
    "    svm,\n",
    "    open(\"models/SVM1.pkl\", \"wb\")\n",
    ")\n",
    "\n",
    "# # saving RFE model\n",
    "pickle.dump(\n",
    "    best_random_grid,\n",
    "    open(\"./Application/models/rfe.pkl\", \"wb\")\n",
    ")\n",
    "\n",
    "#Saving Ensemble\n",
    "pickle.dump(\n",
    "    ensemble,\n",
    "    open(\"models/ensemble.pkl\", \"wb\")\n",
    ")\n",
    "\n",
    "\n",
    "# saving the scaler\n",
    "pickle.dump(\n",
    "    scaler,\n",
    "    open(\"models/standard_scaler.pkl\", \"wb\")\n",
    ")\n"
   ]
  },
  {
   "cell_type": "markdown",
   "metadata": {},
   "source": [
    "### TESTING"
   ]
  },
  {
   "cell_type": "code",
   "execution_count": 491,
   "metadata": {},
   "outputs": [],
   "source": [
    "test = pd.read_csv('test.csv')"
   ]
  },
  {
   "cell_type": "code",
   "execution_count": 492,
   "metadata": {},
   "outputs": [
    {
     "data": {
      "text/html": [
       "<div>\n",
       "<style scoped>\n",
       "    .dataframe tbody tr th:only-of-type {\n",
       "        vertical-align: middle;\n",
       "    }\n",
       "\n",
       "    .dataframe tbody tr th {\n",
       "        vertical-align: top;\n",
       "    }\n",
       "\n",
       "    .dataframe thead th {\n",
       "        text-align: right;\n",
       "    }\n",
       "</style>\n",
       "<table border=\"1\" class=\"dataframe\">\n",
       "  <thead>\n",
       "    <tr style=\"text-align: right;\">\n",
       "      <th></th>\n",
       "      <th>GENDER</th>\n",
       "      <th>AGE</th>\n",
       "      <th>WBC</th>\n",
       "      <th>Platelets</th>\n",
       "      <th>Neutrophils</th>\n",
       "      <th>Lymphocytes</th>\n",
       "      <th>Monocytes</th>\n",
       "      <th>Eosinophils</th>\n",
       "      <th>Basophils</th>\n",
       "      <th>CRP</th>\n",
       "      <th>AST</th>\n",
       "      <th>ALT</th>\n",
       "      <th>ALP</th>\n",
       "      <th>GGT</th>\n",
       "      <th>LDH</th>\n",
       "      <th>SWAB</th>\n",
       "    </tr>\n",
       "  </thead>\n",
       "  <tbody>\n",
       "    <tr>\n",
       "      <th>0</th>\n",
       "      <td>M</td>\n",
       "      <td>66</td>\n",
       "      <td>5.5</td>\n",
       "      <td>177</td>\n",
       "      <td>NaN</td>\n",
       "      <td>NaN</td>\n",
       "      <td>NaN</td>\n",
       "      <td>NaN</td>\n",
       "      <td>NaN</td>\n",
       "      <td>57.2</td>\n",
       "      <td>15.0</td>\n",
       "      <td>12.0</td>\n",
       "      <td>NaN</td>\n",
       "      <td>NaN</td>\n",
       "      <td>NaN</td>\n",
       "      <td>1</td>\n",
       "    </tr>\n",
       "    <tr>\n",
       "      <th>1</th>\n",
       "      <td>M</td>\n",
       "      <td>76</td>\n",
       "      <td>23.3</td>\n",
       "      <td>346</td>\n",
       "      <td>NaN</td>\n",
       "      <td>NaN</td>\n",
       "      <td>NaN</td>\n",
       "      <td>NaN</td>\n",
       "      <td>NaN</td>\n",
       "      <td>125.4</td>\n",
       "      <td>57.0</td>\n",
       "      <td>30.0</td>\n",
       "      <td>NaN</td>\n",
       "      <td>NaN</td>\n",
       "      <td>767.0</td>\n",
       "      <td>1</td>\n",
       "    </tr>\n",
       "    <tr>\n",
       "      <th>2</th>\n",
       "      <td>F</td>\n",
       "      <td>72</td>\n",
       "      <td>4.3</td>\n",
       "      <td>227</td>\n",
       "      <td>3.9</td>\n",
       "      <td>1.1</td>\n",
       "      <td>0.7</td>\n",
       "      <td>0.0</td>\n",
       "      <td>0.0</td>\n",
       "      <td>91.2</td>\n",
       "      <td>77.0</td>\n",
       "      <td>30.0</td>\n",
       "      <td>49.0</td>\n",
       "      <td>49.0</td>\n",
       "      <td>428.0</td>\n",
       "      <td>1</td>\n",
       "    </tr>\n",
       "    <tr>\n",
       "      <th>3</th>\n",
       "      <td>M</td>\n",
       "      <td>81</td>\n",
       "      <td>4.2</td>\n",
       "      <td>150</td>\n",
       "      <td>3.6</td>\n",
       "      <td>0.5</td>\n",
       "      <td>0.1</td>\n",
       "      <td>0.0</td>\n",
       "      <td>0.0</td>\n",
       "      <td>67.3</td>\n",
       "      <td>42.0</td>\n",
       "      <td>29.0</td>\n",
       "      <td>NaN</td>\n",
       "      <td>NaN</td>\n",
       "      <td>NaN</td>\n",
       "      <td>1</td>\n",
       "    </tr>\n",
       "    <tr>\n",
       "      <th>4</th>\n",
       "      <td>F</td>\n",
       "      <td>36</td>\n",
       "      <td>13.5</td>\n",
       "      <td>184</td>\n",
       "      <td>9.5</td>\n",
       "      <td>2.6</td>\n",
       "      <td>1.4</td>\n",
       "      <td>0.1</td>\n",
       "      <td>0.0</td>\n",
       "      <td>1.3</td>\n",
       "      <td>17.0</td>\n",
       "      <td>11.0</td>\n",
       "      <td>NaN</td>\n",
       "      <td>NaN</td>\n",
       "      <td>NaN</td>\n",
       "      <td>0</td>\n",
       "    </tr>\n",
       "  </tbody>\n",
       "</table>\n",
       "</div>"
      ],
      "text/plain": [
       "  GENDER  AGE   WBC  Platelets  Neutrophils  Lymphocytes  Monocytes  \\\n",
       "0      M   66   5.5        177          NaN          NaN        NaN   \n",
       "1      M   76  23.3        346          NaN          NaN        NaN   \n",
       "2      F   72   4.3        227          3.9          1.1        0.7   \n",
       "3      M   81   4.2        150          3.6          0.5        0.1   \n",
       "4      F   36  13.5        184          9.5          2.6        1.4   \n",
       "\n",
       "   Eosinophils  Basophils    CRP   AST   ALT   ALP   GGT    LDH  SWAB  \n",
       "0          NaN        NaN   57.2  15.0  12.0   NaN   NaN    NaN     1  \n",
       "1          NaN        NaN  125.4  57.0  30.0   NaN   NaN  767.0     1  \n",
       "2          0.0        0.0   91.2  77.0  30.0  49.0  49.0  428.0     1  \n",
       "3          0.0        0.0   67.3  42.0  29.0   NaN   NaN    NaN     1  \n",
       "4          0.1        0.0    1.3  17.0  11.0   NaN   NaN    NaN     0  "
      ]
     },
     "execution_count": 492,
     "metadata": {},
     "output_type": "execute_result"
    }
   ],
   "source": [
    "test.head()"
   ]
  },
  {
   "cell_type": "code",
   "execution_count": 493,
   "metadata": {},
   "outputs": [
    {
     "data": {
      "text/plain": [
       "GENDER          0\n",
       "AGE             0\n",
       "WBC             0\n",
       "Platelets       0\n",
       "Neutrophils    12\n",
       "Lymphocytes    12\n",
       "Monocytes      12\n",
       "Eosinophils    12\n",
       "Basophils      12\n",
       "CRP             2\n",
       "AST             1\n",
       "ALT             5\n",
       "ALP            31\n",
       "GGT            32\n",
       "LDH            19\n",
       "SWAB            0\n",
       "dtype: int64"
      ]
     },
     "execution_count": 493,
     "metadata": {},
     "output_type": "execute_result"
    }
   ],
   "source": [
    "test.isnull().sum()"
   ]
  },
  {
   "cell_type": "code",
   "execution_count": 494,
   "metadata": {},
   "outputs": [],
   "source": [
    "test.drop(['ALP','GGT'],inplace=True,axis=1)"
   ]
  },
  {
   "cell_type": "markdown",
   "metadata": {},
   "source": [
    "#### For testing, we are using all the training data to fit our model and then we will evaluate the model performance with test data"
   ]
  },
  {
   "cell_type": "markdown",
   "metadata": {},
   "source": [
    "## Handling Neutrophils"
   ]
  },
  {
   "cell_type": "code",
   "execution_count": 495,
   "metadata": {},
   "outputs": [],
   "source": [
    "test['Np_pred'] = lr.predict(test[['WBC']])"
   ]
  },
  {
   "cell_type": "code",
   "execution_count": 496,
   "metadata": {},
   "outputs": [],
   "source": [
    "test['Neutrophils'].fillna(test['Np_pred'], inplace = True)\n",
    "test.drop('Np_pred', axis = 1, inplace = True)"
   ]
  },
  {
   "cell_type": "markdown",
   "metadata": {},
   "source": [
    "## Handling Lymphocytes"
   ]
  },
  {
   "cell_type": "code",
   "execution_count": 497,
   "metadata": {},
   "outputs": [],
   "source": [
    "c0_mean = data[data['Class']==0]['Lymphocytes'].mean()"
   ]
  },
  {
   "cell_type": "code",
   "execution_count": 498,
   "metadata": {},
   "outputs": [],
   "source": [
    "c1_mean = data[data['Class']==1]['Lymphocytes'].mean()"
   ]
  },
  {
   "cell_type": "code",
   "execution_count": 499,
   "metadata": {},
   "outputs": [],
   "source": [
    "\n",
    "\n",
    "for ind in test.index:\n",
    "    if str(test.loc[ind,'Lymphocytes']).lower() == 'nan':\n",
    "        if test.loc[ind, 'SWAB'] == 1:\n",
    "            test.loc[ind,'Lymphocytes'] = c1_mean\n",
    "        else:\n",
    "            test.loc[ind,'Lymphocytes'] = c0_mean\n",
    "            \n"
   ]
  },
  {
   "cell_type": "markdown",
   "metadata": {},
   "source": [
    "## Handling Monocytes"
   ]
  },
  {
   "cell_type": "code",
   "execution_count": 500,
   "metadata": {},
   "outputs": [],
   "source": [
    "test['Monocytes']=test['Monocytes'].replace(np.nan,data['Monocytes'].median())"
   ]
  },
  {
   "cell_type": "markdown",
   "metadata": {},
   "source": [
    "## Handling Eosinophils"
   ]
  },
  {
   "cell_type": "code",
   "execution_count": 501,
   "metadata": {},
   "outputs": [],
   "source": [
    "test['Eosinophils']=test['Eosinophils'].replace(np.nan,data['Eosinophils'].mode()[0])"
   ]
  },
  {
   "cell_type": "markdown",
   "metadata": {},
   "source": [
    "## Handling Basophils"
   ]
  },
  {
   "cell_type": "code",
   "execution_count": 502,
   "metadata": {},
   "outputs": [],
   "source": [
    "test['Basophils']=test['Basophils'].replace(np.nan,data['Basophils'].mode()[0])"
   ]
  },
  {
   "cell_type": "markdown",
   "metadata": {},
   "source": [
    "## Handling CRP"
   ]
  },
  {
   "cell_type": "code",
   "execution_count": 503,
   "metadata": {},
   "outputs": [],
   "source": [
    "mean = data[data['AGE']>77].mean()['CRP']"
   ]
  },
  {
   "cell_type": "code",
   "execution_count": 504,
   "metadata": {},
   "outputs": [],
   "source": [
    "test['CRP'].fillna(mean,inplace=True)"
   ]
  },
  {
   "cell_type": "markdown",
   "metadata": {},
   "source": [
    "## Handling AST, ALT"
   ]
  },
  {
   "cell_type": "code",
   "execution_count": 505,
   "metadata": {},
   "outputs": [],
   "source": [
    "median = data['AST'].median()\n",
    "test['AST'].fillna(median, inplace = True)"
   ]
  },
  {
   "cell_type": "code",
   "execution_count": 506,
   "metadata": {},
   "outputs": [],
   "source": [
    "test['ALT']=test['ALT'].replace(np.nan,data['ALT'].median())"
   ]
  },
  {
   "cell_type": "markdown",
   "metadata": {},
   "source": [
    "## Handling LDH"
   ]
  },
  {
   "cell_type": "code",
   "execution_count": 507,
   "metadata": {},
   "outputs": [],
   "source": [
    "test['LDH'] = test['LDH'].fillna(data['LDH'].median())"
   ]
  },
  {
   "cell_type": "code",
   "execution_count": null,
   "metadata": {},
   "outputs": [],
   "source": []
  },
  {
   "cell_type": "markdown",
   "metadata": {},
   "source": [
    "## Handling Outliers in test"
   ]
  },
  {
   "cell_type": "code",
   "execution_count": 508,
   "metadata": {},
   "outputs": [],
   "source": [
    "test['WBC'] = np.where(test['WBC']>17.5, 17, test['WBC'])"
   ]
  },
  {
   "cell_type": "code",
   "execution_count": null,
   "metadata": {},
   "outputs": [],
   "source": []
  },
  {
   "cell_type": "code",
   "execution_count": 509,
   "metadata": {},
   "outputs": [],
   "source": [
    "iqr = 272 - 157 \n",
    "lb = 157 - iqr*1.5\n",
    "ub = 272 + iqr*1.5\n",
    "for ind in test.index:\n",
    "    if test.loc[ind, 'Platelets'] < lb:\n",
    "        test.loc[ind, 'Platelets'] = lb\n",
    "    elif test.loc[ind, 'Platelets'] > ub:\n",
    "        test.loc[ind, 'Platelets'] = ub"
   ]
  },
  {
   "cell_type": "code",
   "execution_count": null,
   "metadata": {},
   "outputs": [],
   "source": []
  },
  {
   "cell_type": "code",
   "execution_count": 510,
   "metadata": {},
   "outputs": [],
   "source": [
    "test['Neutrophils'] = np.where(test['Neutrophils']>15, 15, test['Neutrophils'])"
   ]
  },
  {
   "cell_type": "code",
   "execution_count": null,
   "metadata": {},
   "outputs": [],
   "source": []
  },
  {
   "cell_type": "code",
   "execution_count": 511,
   "metadata": {},
   "outputs": [],
   "source": [
    "test['Lymphocytes'] = np.where(test['Lymphocytes']>2.9, 2.9, test['Lymphocytes'] )"
   ]
  },
  {
   "cell_type": "code",
   "execution_count": null,
   "metadata": {},
   "outputs": [],
   "source": []
  },
  {
   "cell_type": "markdown",
   "metadata": {},
   "source": [
    "## Encoding Gender"
   ]
  },
  {
   "cell_type": "code",
   "execution_count": 512,
   "metadata": {},
   "outputs": [],
   "source": [
    "test['GENDER']=test['GENDER'].map({'M':1,'F':0})"
   ]
  },
  {
   "cell_type": "code",
   "execution_count": 513,
   "metadata": {},
   "outputs": [],
   "source": [
    "X_test = test.drop('SWAB',axis=1)\n",
    "y_test = test['SWAB']"
   ]
  },
  {
   "cell_type": "code",
   "execution_count": 514,
   "metadata": {},
   "outputs": [],
   "source": [
    "scaler = pk.load(open('models/standard_scaler.pkl','rb'))"
   ]
  },
  {
   "cell_type": "code",
   "execution_count": 515,
   "metadata": {
    "scrolled": false
   },
   "outputs": [],
   "source": [
    "X_test_scaled=pd.DataFrame(scaler.transform(X_test),columns=X_test.columns)"
   ]
  },
  {
   "cell_type": "code",
   "execution_count": 516,
   "metadata": {},
   "outputs": [
    {
     "data": {
      "text/html": [
       "<div>\n",
       "<style scoped>\n",
       "    .dataframe tbody tr th:only-of-type {\n",
       "        vertical-align: middle;\n",
       "    }\n",
       "\n",
       "    .dataframe tbody tr th {\n",
       "        vertical-align: top;\n",
       "    }\n",
       "\n",
       "    .dataframe thead th {\n",
       "        text-align: right;\n",
       "    }\n",
       "</style>\n",
       "<table border=\"1\" class=\"dataframe\">\n",
       "  <thead>\n",
       "    <tr style=\"text-align: right;\">\n",
       "      <th></th>\n",
       "      <th>GENDER</th>\n",
       "      <th>AGE</th>\n",
       "      <th>WBC</th>\n",
       "      <th>Platelets</th>\n",
       "      <th>Neutrophils</th>\n",
       "      <th>Lymphocytes</th>\n",
       "      <th>Monocytes</th>\n",
       "      <th>Eosinophils</th>\n",
       "      <th>Basophils</th>\n",
       "      <th>CRP</th>\n",
       "      <th>AST</th>\n",
       "      <th>ALT</th>\n",
       "      <th>LDH</th>\n",
       "    </tr>\n",
       "  </thead>\n",
       "  <tbody>\n",
       "    <tr>\n",
       "      <th>0</th>\n",
       "      <td>0.692820</td>\n",
       "      <td>0.247103</td>\n",
       "      <td>-0.688001</td>\n",
       "      <td>-0.474376</td>\n",
       "      <td>-0.661246</td>\n",
       "      <td>-0.292701</td>\n",
       "      <td>-0.208254</td>\n",
       "      <td>-0.329590</td>\n",
       "      <td>-0.307692</td>\n",
       "      <td>-0.350446</td>\n",
       "      <td>-0.715043</td>\n",
       "      <td>-0.752622</td>\n",
       "      <td>-0.229962</td>\n",
       "    </tr>\n",
       "    <tr>\n",
       "      <th>1</th>\n",
       "      <td>0.692820</td>\n",
       "      <td>0.792943</td>\n",
       "      <td>2.140449</td>\n",
       "      <td>1.293912</td>\n",
       "      <td>2.256227</td>\n",
       "      <td>-0.292701</td>\n",
       "      <td>-0.208254</td>\n",
       "      <td>-0.329590</td>\n",
       "      <td>-0.307692</td>\n",
       "      <td>0.393489</td>\n",
       "      <td>0.091229</td>\n",
       "      <td>-0.341989</td>\n",
       "      <td>2.517929</td>\n",
       "    </tr>\n",
       "    <tr>\n",
       "      <th>2</th>\n",
       "      <td>-1.443376</td>\n",
       "      <td>0.574607</td>\n",
       "      <td>-0.983144</td>\n",
       "      <td>0.048786</td>\n",
       "      <td>-0.677663</td>\n",
       "      <td>-0.200442</td>\n",
       "      <td>0.362516</td>\n",
       "      <td>-0.329590</td>\n",
       "      <td>-0.307692</td>\n",
       "      <td>0.020431</td>\n",
       "      <td>0.475168</td>\n",
       "      <td>-0.341989</td>\n",
       "      <td>0.429285</td>\n",
       "    </tr>\n",
       "    <tr>\n",
       "      <th>3</th>\n",
       "      <td>0.692820</td>\n",
       "      <td>1.065863</td>\n",
       "      <td>-1.007739</td>\n",
       "      <td>-0.756884</td>\n",
       "      <td>-0.756958</td>\n",
       "      <td>-1.186912</td>\n",
       "      <td>-1.349793</td>\n",
       "      <td>-0.329590</td>\n",
       "      <td>-0.307692</td>\n",
       "      <td>-0.240274</td>\n",
       "      <td>-0.196725</td>\n",
       "      <td>-0.364802</td>\n",
       "      <td>-0.229962</td>\n",
       "    </tr>\n",
       "    <tr>\n",
       "      <th>4</th>\n",
       "      <td>-1.443376</td>\n",
       "      <td>-1.390417</td>\n",
       "      <td>1.279616</td>\n",
       "      <td>-0.401133</td>\n",
       "      <td>0.802497</td>\n",
       "      <td>2.265734</td>\n",
       "      <td>2.360209</td>\n",
       "      <td>0.501876</td>\n",
       "      <td>-0.307692</td>\n",
       "      <td>-0.960210</td>\n",
       "      <td>-0.676649</td>\n",
       "      <td>-0.775435</td>\n",
       "      <td>-0.229962</td>\n",
       "    </tr>\n",
       "  </tbody>\n",
       "</table>\n",
       "</div>"
      ],
      "text/plain": [
       "     GENDER       AGE       WBC  Platelets  Neutrophils  Lymphocytes  \\\n",
       "0  0.692820  0.247103 -0.688001  -0.474376    -0.661246    -0.292701   \n",
       "1  0.692820  0.792943  2.140449   1.293912     2.256227    -0.292701   \n",
       "2 -1.443376  0.574607 -0.983144   0.048786    -0.677663    -0.200442   \n",
       "3  0.692820  1.065863 -1.007739  -0.756884    -0.756958    -1.186912   \n",
       "4 -1.443376 -1.390417  1.279616  -0.401133     0.802497     2.265734   \n",
       "\n",
       "   Monocytes  Eosinophils  Basophils       CRP       AST       ALT       LDH  \n",
       "0  -0.208254    -0.329590  -0.307692 -0.350446 -0.715043 -0.752622 -0.229962  \n",
       "1  -0.208254    -0.329590  -0.307692  0.393489  0.091229 -0.341989  2.517929  \n",
       "2   0.362516    -0.329590  -0.307692  0.020431  0.475168 -0.341989  0.429285  \n",
       "3  -1.349793    -0.329590  -0.307692 -0.240274 -0.196725 -0.364802 -0.229962  \n",
       "4   2.360209     0.501876  -0.307692 -0.960210 -0.676649 -0.775435 -0.229962  "
      ]
     },
     "execution_count": 516,
     "metadata": {},
     "output_type": "execute_result"
    }
   ],
   "source": [
    "X_test_scaled.head()"
   ]
  },
  {
   "cell_type": "code",
   "execution_count": null,
   "metadata": {},
   "outputs": [],
   "source": []
  },
  {
   "cell_type": "code",
   "execution_count": 517,
   "metadata": {},
   "outputs": [],
   "source": [
    "LogReg = pk.load(open('models/logreg.pkl','rb'))\n",
    "Dec_Tree = pk.load(open('models/dt.pkl','rb'))\n",
    "SVM1 = pk.load(open('models/SVM1.pkl','rb'))\n",
    "RFE = pk.load(open('models/rfe.pkl','rb')) \n",
    "ensemble = pk.load(open('models/ensemble.pkl','rb'))"
   ]
  },
  {
   "cell_type": "code",
   "execution_count": 518,
   "metadata": {},
   "outputs": [],
   "source": [
    "from sklearn.metrics import matthews_corrcoef\n",
    "def validate(model,X,y):\n",
    "    y_pred = model.predict(X)\n",
    "    print(\"MCC SCORE : \",matthews_corrcoef(y,y_pred))"
   ]
  },
  {
   "cell_type": "code",
   "execution_count": 519,
   "metadata": {
    "scrolled": true
   },
   "outputs": [
    {
     "name": "stdout",
     "output_type": "stream",
     "text": [
      "MCC SCORE :  0.5868062289779952\n"
     ]
    }
   ],
   "source": [
    "validate(LogReg,X_test_scaled,y_test)"
   ]
  },
  {
   "cell_type": "code",
   "execution_count": 520,
   "metadata": {},
   "outputs": [
    {
     "name": "stdout",
     "output_type": "stream",
     "text": [
      "MCC SCORE :  0.46415093955852404\n"
     ]
    }
   ],
   "source": [
    "validate(Dec_Tree,X_test_scaled,y_test)"
   ]
  },
  {
   "cell_type": "code",
   "execution_count": 521,
   "metadata": {},
   "outputs": [
    {
     "data": {
      "text/html": [
       "<div>\n",
       "<style scoped>\n",
       "    .dataframe tbody tr th:only-of-type {\n",
       "        vertical-align: middle;\n",
       "    }\n",
       "\n",
       "    .dataframe tbody tr th {\n",
       "        vertical-align: top;\n",
       "    }\n",
       "\n",
       "    .dataframe thead th {\n",
       "        text-align: right;\n",
       "    }\n",
       "</style>\n",
       "<table border=\"1\" class=\"dataframe\">\n",
       "  <thead>\n",
       "    <tr style=\"text-align: right;\">\n",
       "      <th></th>\n",
       "      <th>GENDER</th>\n",
       "      <th>AGE</th>\n",
       "      <th>WBC</th>\n",
       "      <th>Platelets</th>\n",
       "      <th>Neutrophils</th>\n",
       "      <th>Lymphocytes</th>\n",
       "      <th>Monocytes</th>\n",
       "      <th>Eosinophils</th>\n",
       "      <th>Basophils</th>\n",
       "      <th>CRP</th>\n",
       "      <th>AST</th>\n",
       "      <th>ALT</th>\n",
       "      <th>LDH</th>\n",
       "    </tr>\n",
       "  </thead>\n",
       "  <tbody>\n",
       "    <tr>\n",
       "      <th>0</th>\n",
       "      <td>0.692820</td>\n",
       "      <td>0.247103</td>\n",
       "      <td>-0.688001</td>\n",
       "      <td>-0.474376</td>\n",
       "      <td>-0.661246</td>\n",
       "      <td>-0.292701</td>\n",
       "      <td>-0.208254</td>\n",
       "      <td>-0.329590</td>\n",
       "      <td>-0.307692</td>\n",
       "      <td>-0.350446</td>\n",
       "      <td>-0.715043</td>\n",
       "      <td>-0.752622</td>\n",
       "      <td>-0.229962</td>\n",
       "    </tr>\n",
       "    <tr>\n",
       "      <th>1</th>\n",
       "      <td>0.692820</td>\n",
       "      <td>0.792943</td>\n",
       "      <td>2.140449</td>\n",
       "      <td>1.293912</td>\n",
       "      <td>2.256227</td>\n",
       "      <td>-0.292701</td>\n",
       "      <td>-0.208254</td>\n",
       "      <td>-0.329590</td>\n",
       "      <td>-0.307692</td>\n",
       "      <td>0.393489</td>\n",
       "      <td>0.091229</td>\n",
       "      <td>-0.341989</td>\n",
       "      <td>2.517929</td>\n",
       "    </tr>\n",
       "    <tr>\n",
       "      <th>2</th>\n",
       "      <td>-1.443376</td>\n",
       "      <td>0.574607</td>\n",
       "      <td>-0.983144</td>\n",
       "      <td>0.048786</td>\n",
       "      <td>-0.677663</td>\n",
       "      <td>-0.200442</td>\n",
       "      <td>0.362516</td>\n",
       "      <td>-0.329590</td>\n",
       "      <td>-0.307692</td>\n",
       "      <td>0.020431</td>\n",
       "      <td>0.475168</td>\n",
       "      <td>-0.341989</td>\n",
       "      <td>0.429285</td>\n",
       "    </tr>\n",
       "    <tr>\n",
       "      <th>3</th>\n",
       "      <td>0.692820</td>\n",
       "      <td>1.065863</td>\n",
       "      <td>-1.007739</td>\n",
       "      <td>-0.756884</td>\n",
       "      <td>-0.756958</td>\n",
       "      <td>-1.186912</td>\n",
       "      <td>-1.349793</td>\n",
       "      <td>-0.329590</td>\n",
       "      <td>-0.307692</td>\n",
       "      <td>-0.240274</td>\n",
       "      <td>-0.196725</td>\n",
       "      <td>-0.364802</td>\n",
       "      <td>-0.229962</td>\n",
       "    </tr>\n",
       "    <tr>\n",
       "      <th>4</th>\n",
       "      <td>-1.443376</td>\n",
       "      <td>-1.390417</td>\n",
       "      <td>1.279616</td>\n",
       "      <td>-0.401133</td>\n",
       "      <td>0.802497</td>\n",
       "      <td>2.265734</td>\n",
       "      <td>2.360209</td>\n",
       "      <td>0.501876</td>\n",
       "      <td>-0.307692</td>\n",
       "      <td>-0.960210</td>\n",
       "      <td>-0.676649</td>\n",
       "      <td>-0.775435</td>\n",
       "      <td>-0.229962</td>\n",
       "    </tr>\n",
       "  </tbody>\n",
       "</table>\n",
       "</div>"
      ],
      "text/plain": [
       "     GENDER       AGE       WBC  Platelets  Neutrophils  Lymphocytes  \\\n",
       "0  0.692820  0.247103 -0.688001  -0.474376    -0.661246    -0.292701   \n",
       "1  0.692820  0.792943  2.140449   1.293912     2.256227    -0.292701   \n",
       "2 -1.443376  0.574607 -0.983144   0.048786    -0.677663    -0.200442   \n",
       "3  0.692820  1.065863 -1.007739  -0.756884    -0.756958    -1.186912   \n",
       "4 -1.443376 -1.390417  1.279616  -0.401133     0.802497     2.265734   \n",
       "\n",
       "   Monocytes  Eosinophils  Basophils       CRP       AST       ALT       LDH  \n",
       "0  -0.208254    -0.329590  -0.307692 -0.350446 -0.715043 -0.752622 -0.229962  \n",
       "1  -0.208254    -0.329590  -0.307692  0.393489  0.091229 -0.341989  2.517929  \n",
       "2   0.362516    -0.329590  -0.307692  0.020431  0.475168 -0.341989  0.429285  \n",
       "3  -1.349793    -0.329590  -0.307692 -0.240274 -0.196725 -0.364802 -0.229962  \n",
       "4   2.360209     0.501876  -0.307692 -0.960210 -0.676649 -0.775435 -0.229962  "
      ]
     },
     "execution_count": 521,
     "metadata": {},
     "output_type": "execute_result"
    }
   ],
   "source": [
    "X_test_scaled.head()"
   ]
  },
  {
   "cell_type": "code",
   "execution_count": 522,
   "metadata": {},
   "outputs": [
    {
     "data": {
      "text/html": [
       "<div>\n",
       "<style scoped>\n",
       "    .dataframe tbody tr th:only-of-type {\n",
       "        vertical-align: middle;\n",
       "    }\n",
       "\n",
       "    .dataframe tbody tr th {\n",
       "        vertical-align: top;\n",
       "    }\n",
       "\n",
       "    .dataframe thead th {\n",
       "        text-align: right;\n",
       "    }\n",
       "</style>\n",
       "<table border=\"1\" class=\"dataframe\">\n",
       "  <thead>\n",
       "    <tr style=\"text-align: right;\">\n",
       "      <th></th>\n",
       "      <th>GENDER</th>\n",
       "      <th>AGE</th>\n",
       "      <th>WBC</th>\n",
       "      <th>Platelets</th>\n",
       "      <th>Neutrophils</th>\n",
       "      <th>Lymphocytes</th>\n",
       "      <th>Monocytes</th>\n",
       "      <th>Eosinophils</th>\n",
       "      <th>Basophils</th>\n",
       "      <th>CRP</th>\n",
       "      <th>AST</th>\n",
       "      <th>ALT</th>\n",
       "      <th>LDH</th>\n",
       "    </tr>\n",
       "  </thead>\n",
       "  <tbody>\n",
       "    <tr>\n",
       "      <th>0</th>\n",
       "      <td>-1.443376</td>\n",
       "      <td>0.465439</td>\n",
       "      <td>-0.835573</td>\n",
       "      <td>-0.809200</td>\n",
       "      <td>-0.651232</td>\n",
       "      <td>-0.858088</td>\n",
       "      <td>-0.779023</td>\n",
       "      <td>-0.32959</td>\n",
       "      <td>-0.307692</td>\n",
       "      <td>-0.015566</td>\n",
       "      <td>0.302395</td>\n",
       "      <td>-0.091046</td>\n",
       "      <td>1.525977</td>\n",
       "    </tr>\n",
       "    <tr>\n",
       "      <th>1</th>\n",
       "      <td>0.692820</td>\n",
       "      <td>-0.025817</td>\n",
       "      <td>0.738521</td>\n",
       "      <td>-0.589472</td>\n",
       "      <td>1.119675</td>\n",
       "      <td>-1.186912</td>\n",
       "      <td>-1.349793</td>\n",
       "      <td>-0.32959</td>\n",
       "      <td>-0.307692</td>\n",
       "      <td>0.926896</td>\n",
       "      <td>1.262242</td>\n",
       "      <td>1.140853</td>\n",
       "      <td>2.770538</td>\n",
       "    </tr>\n",
       "    <tr>\n",
       "      <th>2</th>\n",
       "      <td>-1.443376</td>\n",
       "      <td>0.465439</td>\n",
       "      <td>1.845306</td>\n",
       "      <td>-0.212795</td>\n",
       "      <td>1.965481</td>\n",
       "      <td>-0.364853</td>\n",
       "      <td>0.647901</td>\n",
       "      <td>-0.32959</td>\n",
       "      <td>-0.307692</td>\n",
       "      <td>-0.496615</td>\n",
       "      <td>-0.619058</td>\n",
       "      <td>-0.433240</td>\n",
       "      <td>-0.759825</td>\n",
       "    </tr>\n",
       "    <tr>\n",
       "      <th>3</th>\n",
       "      <td>0.692820</td>\n",
       "      <td>1.284199</td>\n",
       "      <td>0.566355</td>\n",
       "      <td>0.048786</td>\n",
       "      <td>0.531133</td>\n",
       "      <td>0.566813</td>\n",
       "      <td>-0.208254</td>\n",
       "      <td>-0.32959</td>\n",
       "      <td>-0.307692</td>\n",
       "      <td>-0.905670</td>\n",
       "      <td>-0.407892</td>\n",
       "      <td>-0.661370</td>\n",
       "      <td>-0.229962</td>\n",
       "    </tr>\n",
       "    <tr>\n",
       "      <th>4</th>\n",
       "      <td>-1.443376</td>\n",
       "      <td>1.502535</td>\n",
       "      <td>-0.933953</td>\n",
       "      <td>-0.547619</td>\n",
       "      <td>-0.704095</td>\n",
       "      <td>-1.186912</td>\n",
       "      <td>-1.064408</td>\n",
       "      <td>-0.32959</td>\n",
       "      <td>-0.307692</td>\n",
       "      <td>0.482935</td>\n",
       "      <td>0.091229</td>\n",
       "      <td>-0.638557</td>\n",
       "      <td>1.649201</td>\n",
       "    </tr>\n",
       "  </tbody>\n",
       "</table>\n",
       "</div>"
      ],
      "text/plain": [
       "     GENDER       AGE       WBC  Platelets  Neutrophils  Lymphocytes  \\\n",
       "0 -1.443376  0.465439 -0.835573  -0.809200    -0.651232    -0.858088   \n",
       "1  0.692820 -0.025817  0.738521  -0.589472     1.119675    -1.186912   \n",
       "2 -1.443376  0.465439  1.845306  -0.212795     1.965481    -0.364853   \n",
       "3  0.692820  1.284199  0.566355   0.048786     0.531133     0.566813   \n",
       "4 -1.443376  1.502535 -0.933953  -0.547619    -0.704095    -1.186912   \n",
       "\n",
       "   Monocytes  Eosinophils  Basophils       CRP       AST       ALT       LDH  \n",
       "0  -0.779023     -0.32959  -0.307692 -0.015566  0.302395 -0.091046  1.525977  \n",
       "1  -1.349793     -0.32959  -0.307692  0.926896  1.262242  1.140853  2.770538  \n",
       "2   0.647901     -0.32959  -0.307692 -0.496615 -0.619058 -0.433240 -0.759825  \n",
       "3  -0.208254     -0.32959  -0.307692 -0.905670 -0.407892 -0.661370 -0.229962  \n",
       "4  -1.064408     -0.32959  -0.307692  0.482935  0.091229 -0.638557  1.649201  "
      ]
     },
     "execution_count": 522,
     "metadata": {},
     "output_type": "execute_result"
    }
   ],
   "source": [
    "X_ros.head()"
   ]
  },
  {
   "cell_type": "code",
   "execution_count": 523,
   "metadata": {
    "scrolled": false
   },
   "outputs": [
    {
     "name": "stdout",
     "output_type": "stream",
     "text": [
      "MCC SCORE :  0.6492207662311682\n"
     ]
    }
   ],
   "source": [
    "validate(SVM1,X_test_scaled, y_test)"
   ]
  },
  {
   "cell_type": "code",
   "execution_count": 524,
   "metadata": {},
   "outputs": [
    {
     "name": "stdout",
     "output_type": "stream",
     "text": [
      "MCC SCORE :  0.5042405284182773\n"
     ]
    }
   ],
   "source": [
    "validate(RFE,X_test_scaled,y_test)"
   ]
  },
  {
   "cell_type": "code",
   "execution_count": 525,
   "metadata": {},
   "outputs": [
    {
     "name": "stdout",
     "output_type": "stream",
     "text": [
      "MCC SCORE :  0.5969398907915421\n"
     ]
    }
   ],
   "source": [
    "validate(ensemble,X_test_scaled,y_test)"
   ]
  },
  {
   "cell_type": "code",
   "execution_count": null,
   "metadata": {},
   "outputs": [],
   "source": []
  },
  {
   "cell_type": "code",
   "execution_count": 531,
   "metadata": {},
   "outputs": [],
   "source": [
    "import flask\n",
    "import imblearn\n",
    "import sklearn"
   ]
  },
  {
   "cell_type": "code",
   "execution_count": 533,
   "metadata": {},
   "outputs": [
    {
     "data": {
      "text/plain": [
       "'1.0.2'"
      ]
     },
     "execution_count": 533,
     "metadata": {},
     "output_type": "execute_result"
    }
   ],
   "source": [
    "sklearn.__version__"
   ]
  },
  {
   "cell_type": "code",
   "execution_count": 534,
   "metadata": {},
   "outputs": [
    {
     "data": {
      "text/plain": [
       "'1.4.1'"
      ]
     },
     "execution_count": 534,
     "metadata": {},
     "output_type": "execute_result"
    }
   ],
   "source": [
    "import pandas\n",
    "pandas.__version__"
   ]
  },
  {
   "cell_type": "code",
   "execution_count": 535,
   "metadata": {},
   "outputs": [
    {
     "data": {
      "text/plain": [
       "'1.1.2'"
      ]
     },
     "execution_count": 535,
     "metadata": {},
     "output_type": "execute_result"
    }
   ],
   "source": [
    "flask.__version__"
   ]
  },
  {
   "cell_type": "code",
   "execution_count": null,
   "metadata": {},
   "outputs": [],
   "source": []
  }
 ],
 "metadata": {
  "kernelspec": {
   "display_name": "Python 3",
   "language": "python",
   "name": "python3"
  },
  "language_info": {
   "codemirror_mode": {
    "name": "ipython",
    "version": 3
   },
   "file_extension": ".py",
   "mimetype": "text/x-python",
   "name": "python",
   "nbconvert_exporter": "python",
   "pygments_lexer": "ipython3",
   "version": "3.8.3"
  }
 },
 "nbformat": 4,
 "nbformat_minor": 4
}
